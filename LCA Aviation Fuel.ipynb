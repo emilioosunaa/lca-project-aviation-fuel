{
 "cells": [
  {
   "cell_type": "markdown",
   "metadata": {},
   "source": [
    "Import of Brightway to build coding-enviroment."
   ]
  },
  {
   "cell_type": "code",
   "execution_count": 30,
   "metadata": {},
   "outputs": [
    {
     "name": "stdout",
     "output_type": "stream",
     "text": [
      "Restoring project backup archive - this could take a few minutes...\n",
      "Restored project: LCA_EPE\n"
     ]
    },
    {
     "data": {
      "text/plain": [
       "'LCA_EPE'"
      ]
     },
     "execution_count": 30,
     "metadata": {},
     "output_type": "execute_result"
    }
   ],
   "source": [
    "import bw2io as bi\n",
    "FILEPATH = \"lca-epe-databases.tar.gz\"\n",
    "bi.restore_project_directory(fp=FILEPATH, project_name=\"LCA_EPE\", overwrite_existing=True)\n"
   ]
  },
  {
   "cell_type": "markdown",
   "metadata": {},
   "source": [
    "Import of bio- and technosphere."
   ]
  },
  {
   "cell_type": "code",
   "execution_count": 31,
   "metadata": {},
   "outputs": [],
   "source": [
    "import bw2data as bd  # for everything related to the database\n",
    "import bw2calc as bc  # for the actual LCA calculations"
   ]
  },
  {
   "cell_type": "markdown",
   "metadata": {},
   "source": [
    "Your LCA processes live in databases, and your databases live in projects. You need to select a project when working with brightway. we will list all projects below, and then set the current project."
   ]
  },
  {
   "cell_type": "code",
   "execution_count": 32,
   "metadata": {},
   "outputs": [
    {
     "data": {
      "text/plain": [
       "Databases dictionary with 4 object(s):\n",
       "\tecoinvent-3.10-biosphere\n",
       "\tecoinvent-3.10-cutoff\n",
       "\tei310_IMAGE_SSP2_RCP26_2035\n",
       "\tei310_IMAGE_SSP2_RCP26_2050"
      ]
     },
     "execution_count": 32,
     "metadata": {},
     "output_type": "execute_result"
    }
   ],
   "source": [
    "bd.projects  # if this list does not include LCA_EPE, please take another look at the welcome.ipynb notebook\n",
    "bd.projects.set_current(\"LCA_EPE\")\n",
    "bd.databases"
   ]
  },
  {
   "cell_type": "markdown",
   "metadata": {},
   "source": [
    "We have pre-installed the ecoinvent database, a biosphere database, and some other databases that you do not need to worry about yet. The biosphere database includes all elementary flows to and from the environment. The ecoinvent database contains inventory information on technical processes. To access them easily later, we give them nice and short names:"
   ]
  },
  {
   "cell_type": "code",
   "execution_count": 33,
   "metadata": {},
   "outputs": [],
   "source": [
    "# definition of the databases\n",
    "eidb = bd.Database(\"ecoinvent-3.10-cutoff\")\n",
    "bsdb = bd.Database(\"ecoinvent-3.10-biosphere\")"
   ]
  },
  {
   "cell_type": "markdown",
   "metadata": {},
   "source": [
    "Here we search for processes with terms related to syngas."
   ]
  },
  {
   "cell_type": "code",
   "execution_count": 34,
   "metadata": {},
   "outputs": [
    {
     "name": "stdout",
     "output_type": "stream",
     "text": [
      "Syngas-related processes:\n",
      "'ammonia production, steam reforming, liquid' (kilogram, RU, None)\n",
      "'hydrogen production, steam methane reforming' (kilogram, US, None)\n",
      "'hydrogen production, steam methane reforming' (kilowatt hour, RoW, None)\n",
      "'ammonia production, steam reforming, liquid' (kilogram, UN-OCEANIA, None)\n",
      "'methanol production, coal gasification' (kilogram, RoW, None)\n",
      "'hydrogen production, gaseous, petroleum refinery operation' (kilogram, Europe without Switzerland, None)\n",
      "'hydrogen production, gaseous, petroleum refinery operation' (kilogram, CO, None)\n",
      "'ammonia production, steam reforming, liquid' (kilogram, RoW, None)\n",
      "'hydrogen production, steam methane reforming' (kilowatt hour, CN, None)\n",
      "'hydrogen production, gaseous, petroleum refinery operation' (kilogram, PE, None)\n",
      "'methanol production, biomass gasification' (kilogram, CH, None)\n",
      "'hydrogen production, coal gasification' (kilogram, CN, None)\n",
      "'hydrogen production, steam methane reforming' (kilowatt hour, US, None)\n",
      "'hydrogen production, coal gasification' (kilogram, US, None)\n",
      "'carbon monoxide production' (kilogram, RoW, None)\n",
      "'ammonia production, steam reforming, liquid' (kilogram, SAS, None)\n",
      "'methanol production, coal gasification' (kilogram, CN, None)\n",
      "'methanol production, biomass gasification' (kilogram, RoW, None)\n",
      "'hydrogen production, steam methane reforming' (kilogram, RER, None)\n",
      "'ammonia production, steam reforming, liquid' (kilogram, RNA, None)\n",
      "'hydrogen production, coal gasification' (kilogram, RoW, None)\n",
      "'hydrogen production, gaseous, petroleum refinery operation' (kilogram, BR, None)\n",
      "'ammonia production, steam reforming, liquid' (kilogram, RER w/o RU, None)\n",
      "'hydrogen production, coal gasification' (megajoule, RoW, None)\n",
      "'hydrogen production, steam methane reforming' (kilogram, CN, None)\n",
      "'ammonia production, steam reforming, liquid' (kilogram, CN, None)\n",
      "'ammonia production, steam reforming, liquid' (kilogram, RER w/o RU, None)\n",
      "'carbon monoxide production' (kilogram, RER, None)\n",
      "'ammonia production, steam reforming, liquid' (kilogram, RAF, None)\n",
      "'ammonia production, steam reforming, liquid' (kilogram, RER w/o RU, None)\n",
      "'hydrogen production, steam methane reforming' (kilowatt hour, RER, None)\n",
      "'ammonia production, steam reforming, liquid' (kilogram, RoW, None)\n",
      "'hydrogen production, coal gasification' (megajoule, CN, None)\n",
      "'ammonia production, steam reforming, liquid' (kilogram, RLA, None)\n",
      "'hydrogen production, coal gasification' (kilogram, US, None)\n",
      "'ammonia production, steam reforming, liquid' (kilogram, RNA, None)\n",
      "'hydrogen production, gaseous, petroleum refinery operation' (kilogram, RoW, None)\n",
      "'ammonia production, steam reforming, liquid' (kilogram, RoW, None)\n",
      "'hydrogen production, gaseous, petroleum refinery operation' (kilogram, ZA, None)\n",
      "'hydrogen production, steam methane reforming' (kilogram, RoW, None)\n",
      "'hydrogen production, coal gasification' (megajoule, US, None)\n",
      "'ammonia production, steam reforming, liquid' (kilogram, UN-SEASIA, None)\n",
      "'hydrogen production, coal gasification' (kilogram, RoW, None)\n",
      "'ammonia production, steam reforming, liquid' (kilogram, CN, None)\n",
      "'hydrogen production, gaseous, petroleum refinery operation' (kilogram, IN, None)\n",
      "'hydrogen production, coal gasification' (kilogram, CN, None)\n",
      "\n",
      "Syngas terms with no matches:\n",
      "syngas production\n",
      "coal-to-liquid\n",
      "biomass-to-liquid\n",
      "CO2-based production\n",
      "carbon dioxide utilization\n",
      "\n",
      "Fischer-Tropsch-related processes:\n",
      "'synthetic fuel production, from coal, high temperature Fisher-Tropsch operations' (kilogram, ZA, None)\n",
      "'butadiene purification, extractive distillation of crude butadiene' (kilogram, RoW, None)\n",
      "'market for naphtha' (kilogram, RoW, None)\n",
      "'market for naphtha' (kilogram, RER, None)\n",
      "'naphtha production, petroleum refinery operation' (kilogram, PE, None)\n",
      "'synthetic fuel production, from coal, high temperature Fisher-Tropsch operations' (kilogram, ZA, None)\n",
      "'naphtha production, petroleum refinery operation' (kilogram, BR, None)\n",
      "'hydrocarbons purification, molecular sieve separation of naphtha ' (kilogram, RER, None)\n",
      "'naphthalene sulfonic acid production' (kilogram, RER, None)\n",
      "'market for naphthalene sulfonic acid' (kilogram, GLO, None)\n",
      "'hydrocarbons purification, molecular sieve separation of naphtha ' (kilogram, RoW, None)\n",
      "'naphtha production, petroleum refinery operation' (kilogram, Europe without Switzerland, None)\n",
      "'hydrocarbons purification, molecular sieve separation of naphtha ' (kilogram, RER, None)\n",
      "'naphthalene sulfonic acid production' (kilogram, RoW, None)\n",
      "'hydrocarbons purification, molecular sieve separation of naphtha ' (kilogram, RoW, None)\n",
      "'synthetic fuel production, from coal, high temperature Fisher-Tropsch operations' (kilogram, ZA, None)\n",
      "'market for naphtha' (kilogram, IN, None)\n",
      "'hydrocarbons purification, molecular sieve separation of naphtha ' (kilogram, RER, None)\n",
      "'hydrocarbons purification, molecular sieve separation of naphtha ' (kilogram, RER, None)\n",
      "'synthetic fuel production, from coal, high temperature Fisher-Tropsch operations' (kilogram, ZA, None)\n",
      "'naphtha production, petroleum refinery operation' (kilogram, ZA, None)\n",
      "'synthetic fuel production, from coal, high temperature Fisher-Tropsch operations' (cubic meter, ZA, None)\n",
      "'hydrocarbons purification, molecular sieve separation of naphtha ' (kilogram, RER, None)\n",
      "'hydrocarbons purification, molecular sieve separation of naphtha ' (kilogram, RoW, None)\n",
      "'market for naphtha' (kilogram, PE, None)\n",
      "'synthetic fuel production, from coal, high temperature Fisher-Tropsch operations' (kilogram, ZA, None)\n",
      "'butadiene purification, extractive distillation of crude butadiene' (kilogram, RER, None)\n",
      "'market for naphtha' (kilogram, ZA, None)\n",
      "'synthetic fuel production, from coal, high temperature Fisher-Tropsch operations' (kilogram, ZA, None)\n",
      "'fraction 1 from naphtha separation to generic market for chemical, organic' (kilogram, GLO, None)\n",
      "'synthetic fuel production, from coal, high temperature Fisher-Tropsch operations' (kilogram, ZA, None)\n",
      "'hydrocarbons purification, molecular sieve separation of naphtha ' (kilogram, RoW, None)\n",
      "'synthetic fuel production, from coal, high temperature Fisher-Tropsch operations' (kilogram, ZA, None)\n",
      "'synthetic fuel production, from coal, high temperature Fisher-Tropsch operations' (kilogram, ZA, None)\n",
      "'hydrocarbons purification, molecular sieve separation of naphtha ' (kilogram, RoW, None)\n",
      "'synthetic fuel production, from coal, high temperature Fisher-Tropsch operations' (kilogram, ZA, None)\n",
      "'hydrocarbons purification, molecular sieve separation of naphtha ' (kilogram, RER, None)\n",
      "'hydrocarbons purification, molecular sieve separation of naphtha ' (kilogram, RoW, None)\n",
      "'synthetic fuel production, from coal, high temperature Fisher-Tropsch operations' (kilogram, ZA, None)\n",
      "'synthetic fuel production, from coal, high temperature Fisher-Tropsch operations' (kilogram, ZA, None)\n",
      "'naphtha production, petroleum refinery operation' (kilogram, IN, None)\n",
      "'synthetic fuel production, from coal, high temperature Fisher-Tropsch operations' (kilogram, ZA, None)\n",
      "'naphtha production, petroleum refinery operation' (kilogram, RoW, None)\n",
      "'hydrocarbons purification, molecular sieve separation of naphtha ' (kilogram, RER, None)\n",
      "'market for naphtha' (kilogram, CO, None)\n",
      "'hydrocarbons purification, molecular sieve separation of naphtha ' (kilogram, RER, None)\n",
      "'synthetic fuel production, from coal, high temperature Fisher-Tropsch operations' (kilogram, ZA, None)\n",
      "'synthetic fuel production, from coal, high temperature Fisher-Tropsch operations' (kilogram, ZA, None)\n",
      "'hydrocarbons purification, molecular sieve separation of naphtha ' (kilogram, RoW, None)\n",
      "'hydrocarbons purification, molecular sieve separation of naphtha ' (kilogram, RER, None)\n",
      "'synthetic fuel production, from coal, high temperature Fisher-Tropsch operations' (kilogram, ZA, None)\n",
      "'market for fraction 1 from naphtha separation' (kilogram, GLO, None)\n",
      "'hydrocarbons purification, molecular sieve separation of naphtha ' (kilogram, RER, None)\n",
      "'hydrocarbons purification, molecular sieve separation of naphtha ' (kilogram, RoW, None)\n",
      "'hydrocarbons purification, molecular sieve separation of naphtha ' (kilogram, RoW, None)\n",
      "'market for fraction 7 from naphtha separation' (kilogram, GLO, None)\n",
      "'market for fraction 8 from naphtha separation' (kilogram, GLO, None)\n",
      "'market for naphtha' (kilogram, BR, None)\n",
      "'fraction 8 from naphtha separation to generic market for chemical, organic' (kilogram, GLO, None)\n",
      "'synthetic fuel production, from coal, high temperature Fisher-Tropsch operations' (kilogram, ZA, None)\n",
      "'hydrocarbons purification, molecular sieve separation of naphtha ' (kilogram, RoW, None)\n",
      "'naphtha production, petroleum refinery operation' (kilogram, CO, None)\n",
      "'naphtha, import from RoW' (kilogram, IN, None)\n",
      "'synthetic fuel production, from coal, high temperature Fisher-Tropsch operations' (kilogram, ZA, None)\n",
      "'fraction 7 from naphtha separation to generic market for chemical, organic' (kilogram, GLO, None)\n",
      "\n",
      "Fischer-Tropsch terms with no matches:\n",
      "Fischer-Tropsch\n",
      "synthetic kerosene\n",
      "synthetic hydrocarbons\n",
      "gas-to-liquid\n",
      "synthetic fuels\n",
      "hydrocarbon synthesis\n",
      "hydrocracking\n",
      "combined heat and power\n",
      "electricity for Fischer-Tropsch\n",
      "renewable electricity\n",
      "jet fuel\n"
     ]
    }
   ],
   "source": [
    "# Search terms related to syngas\n",
    "syngas_terms = [\n",
    "    \"syngas production\",\n",
    "    \"gasification\",\n",
    "    \"biomass gasification\",\n",
    "    \"steam reforming\",\n",
    "    \"coal-to-liquid\",\n",
    "    \"biomass-to-liquid\",\n",
    "    \"CO2-based production\",\n",
    "    \"carbon dioxide utilization\",\n",
    "    \"methane reforming\",\n",
    "    \"hydrogen production\",\n",
    "    \"carbon monoxide production\"  # Added term\n",
    "]\n",
    "\n",
    "# Search terms related to Fischer-Tropsch\n",
    "ft_terms = [\n",
    "    \"Fischer-Tropsch\",\n",
    "    \"Tropsch\",\n",
    "    \"synthetic kerosene\",\n",
    "    \"synthetic hydrocarbons\",\n",
    "    \"gas-to-liquid\",\n",
    "    \"synthetic fuels\",\n",
    "    \"hydrocarbon synthesis\",\n",
    "    \"hydrocracking\",\n",
    "    \"distillation\",\n",
    "    \"combined heat and power\",\n",
    "    \"electricity for Fischer-Tropsch\",\n",
    "    \"renewable electricity\",\n",
    "    \"naphtha\",\n",
    "    \"jet fuel\"\n",
    "]\n",
    "\n",
    "# Search for syngas-related processes\n",
    "syngas_results = []\n",
    "syngas_no_matches = []  # List to store terms with no matches\n",
    "for term in syngas_terms:\n",
    "    matches = [act for act in eidb if term in act[\"name\"]]\n",
    "    if matches:\n",
    "        syngas_results.extend(matches)\n",
    "    else:\n",
    "        syngas_no_matches.append(term)\n",
    "\n",
    "# Search for Fischer-Tropsch-related processes\n",
    "ft_results = []\n",
    "ft_no_matches = []  # List to store terms with no matches\n",
    "for term in ft_terms:\n",
    "    matches = [act for act in eidb if term in act[\"name\"]]\n",
    "    if matches:\n",
    "        ft_results.extend(matches)\n",
    "    else:\n",
    "        ft_no_matches.append(term)\n",
    "\n",
    "# Remove duplicates from the results\n",
    "syngas_results = list(set(syngas_results))\n",
    "ft_results = list(set(ft_results))\n",
    "\n",
    "# Print syngas-related results\n",
    "print(\"Syngas-related processes:\")\n",
    "for result in syngas_results:\n",
    "    print(result)\n",
    "\n",
    "# Print syngas terms with no matches\n",
    "print(\"\\nSyngas terms with no matches:\")\n",
    "for term in syngas_no_matches:\n",
    "    print(term)\n",
    "\n",
    "# Print Fischer-Tropsch-related results\n",
    "print(\"\\nFischer-Tropsch-related processes:\")\n",
    "for result in ft_results:\n",
    "    print(result)\n",
    "\n",
    "# Print Fischer-Tropsch terms with no matches\n",
    "print(\"\\nFischer-Tropsch terms with no matches:\")\n",
    "for term in ft_no_matches:\n",
    "    print(term)\n"
   ]
  },
  {
   "cell_type": "code",
   "execution_count": 35,
   "metadata": {},
   "outputs": [
    {
     "data": {
      "text/plain": [
       "['synthetic fuel production, from coal, high temperature Fisher-Tropsch operations' (kilogram, ZA, None),\n",
       " 'synthetic fuel production, from coal, high temperature Fisher-Tropsch operations' (kilogram, ZA, None),\n",
       " 'synthetic fuel production, from coal, high temperature Fisher-Tropsch operations' (kilogram, ZA, None),\n",
       " 'synthetic fuel production, from coal, high temperature Fisher-Tropsch operations' (kilogram, ZA, None),\n",
       " 'synthetic fuel production, from coal, high temperature Fisher-Tropsch operations' (kilogram, ZA, None),\n",
       " 'synthetic fuel production, from coal, high temperature Fisher-Tropsch operations' (kilogram, ZA, None),\n",
       " 'synthetic fuel production, from coal, high temperature Fisher-Tropsch operations' (kilogram, ZA, None),\n",
       " 'synthetic fuel production, from coal, high temperature Fisher-Tropsch operations' (kilogram, ZA, None),\n",
       " 'synthetic fuel production, from coal, high temperature Fisher-Tropsch operations' (kilogram, ZA, None),\n",
       " 'synthetic fuel production, from coal, high temperature Fisher-Tropsch operations' (kilogram, ZA, None),\n",
       " 'synthetic fuel production, from coal, high temperature Fisher-Tropsch operations' (kilogram, ZA, None),\n",
       " 'synthetic fuel production, from coal, high temperature Fisher-Tropsch operations' (kilogram, ZA, None),\n",
       " 'synthetic fuel production, from coal, high temperature Fisher-Tropsch operations' (kilogram, ZA, None),\n",
       " 'synthetic fuel production, from coal, high temperature Fisher-Tropsch operations' (kilogram, ZA, None),\n",
       " 'synthetic fuel production, from coal, high temperature Fisher-Tropsch operations' (kilogram, ZA, None),\n",
       " 'synthetic fuel production, from coal, high temperature Fisher-Tropsch operations' (cubic meter, ZA, None),\n",
       " 'synthetic fuel production, from coal, high temperature Fisher-Tropsch operations' (kilogram, ZA, None),\n",
       " 'synthetic fuel production, from coal, high temperature Fisher-Tropsch operations' (kilogram, ZA, None),\n",
       " 'synthetic fuel production, from coal, high temperature Fisher-Tropsch operations' (kilogram, ZA, None)]"
      ]
     },
     "execution_count": 35,
     "metadata": {},
     "output_type": "execute_result"
    }
   ],
   "source": [
    "# let's refine our search by using the location\n",
    "[\n",
    "    act\n",
    "    for act in eidb\n",
    "    if \"synthetic fuel production, from coal, high temperature Fisher-Tropsch operations\" in act[\"name\"] and \"ZA\" in act[\"location\"]\n",
    "]"
   ]
  },
  {
   "cell_type": "markdown",
   "metadata": {},
   "source": []
  },
  {
   "cell_type": "code",
   "execution_count": 36,
   "metadata": {},
   "outputs": [],
   "source": [
    "Fischer_Tropsch1 = bd.get_node(database=\"ecoinvent-3.10-cutoff\", name=\"synthetic fuel production, from coal, high temperature Fisher-Tropsch operations\", location=\"ZA\", **{\"reference product\": \"heavy fuel oil\"})"
   ]
  },
  {
   "cell_type": "code",
   "execution_count": 37,
   "metadata": {},
   "outputs": [
    {
     "data": {
      "text/plain": [
       "{'comment': 'This dataset represents the synthetyc fuels production from coal in South Africa (ZA). These operations are supported by mining coal and converting it into synthetic fuels and chemicals through proprietary Fischer-Tropsch technology by Sasol, the biggest synfuels producer in ZA (and worldwide). Its productions accounts for 150 000 bbl/day of crude-equivalent. \\nHigh Temperature Fisher-Tropsch process makes use of an iron-based catalyst. However no information on catalyst supply or the amount used was available in the public reports.\\nGeography:  SECUNDA SYFUEL OPERATIONS are  bases in Secunda (South Africa); SSO receives coal from 5 mines in Mpumalanga province. SECUNDA CHEMICAL OPERATIONS operates production facilities in Secunda (SA). Attached figure show the Secunda complex (inclusive of the mining sites) and the operation based in Secunda and Sasolburg.\\nImage: https://db3.ecoinvent.org/images/a79dc0c2-0dda-47ec-94e0-6f076bc8cdb6\\nTechnology:  SECUNDA SYNFUEL OPERATIONS: Secunda Synfuels Operations operates the world’s only commercial coal-based synthetic fuels manufacturing facility of its kind, producing synthesis gas (syngas) through coal gasification and natural gas reforming. They make use of their proprietary technology to convert syngas into synthetic fuel components, pipeline gas and chemical feedstock for the downstream production of solvents, polymers, comonomers and other chemicals. Primary internal customers are Sasol Chemicals Operations, Sasol Exploration and Production International and other chemical companies. Carbon is produced for the recarburiser, aluminium, electrode and cathodic production markets. \\nSecunda Synfuels Operations receives coal from five mines in Mpumalanga (see figure attached). After being crushed, the coal is blended to obtain an even quality distribution. Electricity is generated by both steam and gas and used to gasify the coal at a temperature of 1300°C. This produces syngas from which two types of reactor - circulating fluidised bed and Sasol Advanced SynthoTM reactors – produce components for making synthetic fuels as well as a number of downstream chemicals. Gas water and tar oil streams emanating from the gasification process are refined to produce ammonia and various grades of coke respectively.\\nSECUNDA CHEMICAL OPERATIONS: The Secunda Chemicals Operations hub forms part of the Southern African Operations and is the consolidation of all the chemical operating facilities in Secunda, along with Site Services activities. The Secunda Chemicals hub produces a diverse range of products that include industrial explosives, fertilisers; polypropylene, ethylene and propylene; solvents (acetone, methyl ethyl ketone (MEK), ethanol, n-Propanol, iso-propanol, SABUTOL-TM, PROPYLOL-TM, mixed C3 and C4 alcohols, mixed C5 and C6 alcohols, High Purity Ethanol, and Ethyl Acetate) as well as the co-monomers, 1-hexene, 1-pentene and 1-octene and detergent alcohol (SafolTM). \\nImage: https://db3.ecoinvent.org/images/a79dc0c2-0dda-47ec-94e0-6f076bc8cdb6',\n",
       " 'classifications': [('ISIC rev.4 ecoinvent',\n",
       "   '1920:Manufacture of refined petroleum products'),\n",
       "  ('CPC', '33370: Fuel oils n.e.c.')],\n",
       " 'activity type': 'ordinary transforming activity',\n",
       " 'activity': 'd7885ee8-268b-505f-8186-9ac5d2230295',\n",
       " 'database': 'ecoinvent-3.10-cutoff',\n",
       " 'filename': 'd7885ee8-268b-505f-8186-9ac5d2230295_2966d161-5281-47d6-86d3-efbb0a4b2110.spold',\n",
       " 'location': 'ZA',\n",
       " 'name': 'synthetic fuel production, from coal, high temperature Fisher-Tropsch operations',\n",
       " 'synonyms': ['gasoline'],\n",
       " 'parameters': [],\n",
       " 'authors': {'data entry': {'name': 'Russo', 'email': 'v.russo@uct.ac.za'},\n",
       "  'data generator': {'name': 'Russo', 'email': 'v.russo@uct.ac.za'}},\n",
       " 'type': 'process',\n",
       " 'reference product': 'heavy fuel oil',\n",
       " 'flow': '2966d161-5281-47d6-86d3-efbb0a4b2110',\n",
       " 'unit': 'kilogram',\n",
       " 'production amount': 1.0,\n",
       " 'code': '9abce1029518a301095addb3ac344384',\n",
       " 'id': 19264}"
      ]
     },
     "execution_count": 37,
     "metadata": {},
     "output_type": "execute_result"
    }
   ],
   "source": [
    "Fischer_Tropsch1.as_dict()"
   ]
  },
  {
   "cell_type": "code",
   "execution_count": 39,
   "metadata": {},
   "outputs": [
    {
     "data": {
      "text/plain": [
       "[Exchange: 1.0 kilogram 'synthetic fuel production, from coal, high temperature Fisher-Tropsch operations' (kilogram, ZA, None) to 'synthetic fuel production, from coal, high temperature Fisher-Tropsch operations' (kilogram, ZA, None)>,\n",
       " Exchange: 0.12382492849560624 kilogram 'market for chemical, inorganic' (kilogram, GLO, None) to 'synthetic fuel production, from coal, high temperature Fisher-Tropsch operations' (kilogram, ZA, None)>,\n",
       " Exchange: 0.21929833033485835 kilowatt hour 'market for electricity, medium voltage' (kilowatt hour, ZA, None) to 'synthetic fuel production, from coal, high temperature Fisher-Tropsch operations' (kilogram, ZA, None)>,\n",
       " Exchange: 1.2313392566973338 kilogram 'market for hard coal' (kilogram, ZA, None) to 'synthetic fuel production, from coal, high temperature Fisher-Tropsch operations' (kilogram, ZA, None)>,\n",
       " Exchange: -0.3521632933486245 kilogram 'market for hard coal ash' (kilogram, RoW, None) to 'synthetic fuel production, from coal, high temperature Fisher-Tropsch operations' (kilogram, ZA, None)>,\n",
       " Exchange: -0.004625035460340243 kilogram 'market for inert waste, for final disposal' (kilogram, RoW, None) to 'synthetic fuel production, from coal, high temperature Fisher-Tropsch operations' (kilogram, ZA, None)>,\n",
       " Exchange: 0.0392437773531928 cubic meter 'market for natural gas, high pressure' (cubic meter, RoW, None) to 'synthetic fuel production, from coal, high temperature Fisher-Tropsch operations' (kilogram, ZA, None)>,\n",
       " Exchange: 2.5119676204667935e-10 unit 'market for petroleum refinery' (unit, GLO, None) to 'synthetic fuel production, from coal, high temperature Fisher-Tropsch operations' (kilogram, ZA, None)>,\n",
       " Exchange: 1.7203006140811163 kilogram 'Carbon dioxide, fossil' (kilogram, None, ('air', 'non-urban air or from high stacks')) to 'synthetic fuel production, from coal, high temperature Fisher-Tropsch operations' (kilogram, ZA, None)>,\n",
       " Exchange: 0.0019521528540714633 kilogram 'Hydrogen sulfide' (kilogram, None, ('air', 'non-urban air or from high stacks')) to 'synthetic fuel production, from coal, high temperature Fisher-Tropsch operations' (kilogram, ZA, None)>,\n",
       " Exchange: 0.0033334809690348287 kilogram 'Methane, fossil' (kilogram, None, ('air', 'non-urban air or from high stacks')) to 'synthetic fuel production, from coal, high temperature Fisher-Tropsch operations' (kilogram, ZA, None)>,\n",
       " Exchange: 0.004564904070908975 kilogram 'Nitrogen oxides' (kilogram, None, ('air', 'non-urban air or from high stacks')) to 'synthetic fuel production, from coal, high temperature Fisher-Tropsch operations' (kilogram, ZA, None)>,\n",
       " Exchange: 0.0003006569471563425 kilogram 'Particulate Matter, > 10 um' (kilogram, None, ('air', 'non-urban air or from high stacks')) to 'synthetic fuel production, from coal, high temperature Fisher-Tropsch operations' (kilogram, ZA, None)>,\n",
       " Exchange: 0.0060664949647348775 kilogram 'Sulfur dioxide' (kilogram, None, ('air', 'non-urban air or from high stacks')) to 'synthetic fuel production, from coal, high temperature Fisher-Tropsch operations' (kilogram, ZA, None)>,\n",
       " Exchange: 0.0012314231018741466 kilogram 'VOC, volatile organic compounds' (kilogram, None, ('air',)) to 'synthetic fuel production, from coal, high temperature Fisher-Tropsch operations' (kilogram, ZA, None)>,\n",
       " Exchange: 0.0017602468339668748 cubic meter 'Water' (cubic meter, None, ('air', 'non-urban air or from high stacks')) to 'synthetic fuel production, from coal, high temperature Fisher-Tropsch operations' (kilogram, ZA, None)>,\n",
       " Exchange: 0.0024780907813505867 square meter-year 'Occupation, industrial area' (square meter-year, None, ('natural resource', 'land')) to 'synthetic fuel production, from coal, high temperature Fisher-Tropsch operations' (kilogram, ZA, None)>,\n",
       " Exchange: 0.3866101102829624 kilogram 'Oxygen' (kilogram, None, ('natural resource', 'in air')) to 'synthetic fuel production, from coal, high temperature Fisher-Tropsch operations' (kilogram, ZA, None)>,\n",
       " Exchange: 2.7948392270871277e-05 square meter 'Transformation, from unspecified' (square meter, None, ('natural resource', 'land')) to 'synthetic fuel production, from coal, high temperature Fisher-Tropsch operations' (kilogram, ZA, None)>,\n",
       " Exchange: 2.7948392270871277e-05 square meter 'Transformation, to industrial area' (square meter, None, ('natural resource', 'land')) to 'synthetic fuel production, from coal, high temperature Fisher-Tropsch operations' (kilogram, ZA, None)>,\n",
       " Exchange: 0.002795686148065033 cubic meter 'Water, river' (cubic meter, None, ('natural resource', 'in water')) to 'synthetic fuel production, from coal, high temperature Fisher-Tropsch operations' (kilogram, ZA, None)>]"
      ]
     },
     "execution_count": 39,
     "metadata": {},
     "output_type": "execute_result"
    }
   ],
   "source": [
    "list(Fischer_Tropsch1.exchanges())"
   ]
  },
  {
   "cell_type": "code",
   "execution_count": null,
   "metadata": {},
   "outputs": [],
   "source": []
  }
 ],
 "metadata": {
  "kernelspec": {
   "display_name": "lca-epe",
   "language": "python",
   "name": "python3"
  },
  "language_info": {
   "codemirror_mode": {
    "name": "ipython",
    "version": 3
   },
   "file_extension": ".py",
   "mimetype": "text/x-python",
   "name": "python",
   "nbconvert_exporter": "python",
   "pygments_lexer": "ipython3",
   "version": "3.13.1"
  }
 },
 "nbformat": 4,
 "nbformat_minor": 2
}
