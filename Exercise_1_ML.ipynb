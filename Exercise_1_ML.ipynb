{
 "cells": [
  {
   "cell_type": "markdown",
   "id": "a7ca536a",
   "metadata": {},
   "source": [
    "# 🌱 Welcome to Exercise 1: LCA Basics 1 📚\n",
    "\n",
    "This exercise will introduce you to the basics of:\n",
    "* **Jupyter Notebooks**\n",
    "* **Python** and\n",
    "* the LCA package [**`brightway`**](https://docs.brightway.dev/en/latest/).\n",
    "\n",
    "Also, you will do your first **short LCA study**.\n"
   ]
  },
  {
   "cell_type": "markdown",
   "id": "62db1551",
   "metadata": {},
   "source": [
    "## Working with Jupyter Notebooks\n",
    "\n",
    "First up, some general things about how to work with Jupyter Notebooks:\n",
    "\n",
    "- In a Juypter Notebook, there are so called markdown (richt text containing) cells and code cells: if you hover over and select any cell by clicking on it (notice the blue bar on the left of the cell) you can turn it into either a markdown one by pressing `m` or into a code cell by pressing `y`.\n",
    "- Click on a cell to select it or simply use the arrow keys to navigate. If you want to run a cell, simply press `shift+enter`. If a cell is currently being executed, the cell number on the left of the cell turns to [\\*].\n",
    "- If you want to insert an empty cell above or below the current one, simply press `a` or `b`.\n",
    "- For changing the contents of a cell, either doubleclick a markdown cell or click a code cell; pressing `enter` works, too.\n",
    "- You can exit a cell using `Esc` and can copy, cut, and paste cells when pressing the keys `c`, `x`, and `v` when having selected a cell.\n",
    "- If you are ever unsure about what a function does, you can just append a questionmark to the function `your_function?` and it will give you some background information."
   ]
  },
  {
   "cell_type": "markdown",
   "id": "1179ecba",
   "metadata": {},
   "source": [
    "In general, every notebook starts with an `import` cell like the one below this markdown cell. The `import` cell includes all packages that you will need in this notebook. It is necessary that the `import` cell is always executed when opening the notebook. So let's start with the first jupyter notebook. Execute the cell below.\n"
   ]
  },
  {
   "cell_type": "code",
   "execution_count": null,
   "id": "94df44a4",
   "metadata": {},
   "outputs": [],
   "source": [
    "import bw2data as bd  # for everything related to the database\n",
    "import bw2calc as bc  # for the actual LCA calculations"
   ]
  },
  {
   "cell_type": "markdown",
   "id": "fc8198f7",
   "metadata": {},
   "source": [
    "## Brief Python Intro\n"
   ]
  },
  {
   "cell_type": "markdown",
   "id": "281c0670-13b8-4438-a12b-1177676b1875",
   "metadata": {},
   "source": [
    "Let's have a very short intro to python. If you have already worked with Python, you may skip this Section.\n",
    "\n",
    "Run the below cells one by one and try to understand what happens in them. You will get to know the following data types:\n",
    "\n",
    "- strings, indicated by \"\" or ''\n",
    "- integers\n",
    "- floats\n",
    "\n",
    "and your first functions: print() and type(). Feel free to add your own cells wherever you like to experiment.\n"
   ]
  },
  {
   "cell_type": "code",
   "execution_count": 2,
   "id": "aae20ca2",
   "metadata": {},
   "outputs": [
    {
     "data": {
      "text/plain": [
       "'hello world'"
      ]
     },
     "execution_count": 2,
     "metadata": {},
     "output_type": "execute_result"
    }
   ],
   "source": [
    "\"hello world\"  # a string"
   ]
  },
  {
   "cell_type": "code",
   "execution_count": 3,
   "id": "07dc8fa2-abb4-4e09-ab0e-d933f33c0279",
   "metadata": {},
   "outputs": [
    {
     "data": {
      "text/plain": [
       "str"
      ]
     },
     "execution_count": 3,
     "metadata": {},
     "output_type": "execute_result"
    }
   ],
   "source": [
    "type(\"hello world\")  # type(object) gives the data type of the object. str for string"
   ]
  },
  {
   "cell_type": "code",
   "execution_count": 4,
   "id": "dde41f04-2be0-479c-a9cd-179b392113a9",
   "metadata": {},
   "outputs": [
    {
     "data": {
      "text/plain": [
       "6"
      ]
     },
     "execution_count": 4,
     "metadata": {},
     "output_type": "execute_result"
    }
   ],
   "source": [
    "6  # an integer"
   ]
  },
  {
   "cell_type": "code",
   "execution_count": 5,
   "id": "5578a418",
   "metadata": {},
   "outputs": [
    {
     "data": {
      "text/plain": [
       "6"
      ]
     },
     "execution_count": 5,
     "metadata": {},
     "output_type": "execute_result"
    }
   ],
   "source": [
    "# easy calculation using integers\n",
    "1 + 5"
   ]
  },
  {
   "cell_type": "code",
   "execution_count": 6,
   "id": "465b7b63-395a-4c1c-b36f-f4d22ea8d140",
   "metadata": {},
   "outputs": [
    {
     "data": {
      "text/plain": [
       "6"
      ]
     },
     "execution_count": 6,
     "metadata": {},
     "output_type": "execute_result"
    }
   ],
   "source": [
    "# the output cell always displays only last result of the code, here: the integer from the last row\n",
    "\"hello world\"\n",
    "6"
   ]
  },
  {
   "cell_type": "code",
   "execution_count": 7,
   "id": "e39317e6",
   "metadata": {},
   "outputs": [
    {
     "name": "stdout",
     "output_type": "stream",
     "text": [
      "hello world\n",
      "38.333333333333336\n",
      "<class 'float'>\n"
     ]
    },
    {
     "data": {
      "text/plain": [
       "52.142857142857146"
      ]
     },
     "execution_count": 7,
     "metadata": {},
     "output_type": "execute_result"
    }
   ],
   "source": [
    "# use the print method if you want to write to the output cell without being overwritten by the next result\n",
    "print(\"hello world\")\n",
    "print(345 / 9)\n",
    "print(type(345 / 9))  # floats - numbers with decimal places\n",
    "365 / 7"
   ]
  },
  {
   "cell_type": "code",
   "execution_count": 8,
   "id": "64f676a9-c24e-4174-8a50-6bd1887746a3",
   "metadata": {},
   "outputs": [],
   "source": [
    "# of course, we use variables to store information. for instance:\n",
    "hello_str = \"Good Morning!\"  # running this code does not write anything to the output cell, but stores the string in the variable"
   ]
  },
  {
   "cell_type": "code",
   "execution_count": 9,
   "id": "6172f38d-581f-4a29-a123-3ec99e40ed75",
   "metadata": {},
   "outputs": [
    {
     "data": {
      "text/plain": [
       "'Good Morning!'"
      ]
     },
     "execution_count": 9,
     "metadata": {},
     "output_type": "execute_result"
    }
   ],
   "source": [
    "hello_str  # see? the string is stored"
   ]
  },
  {
   "cell_type": "code",
   "execution_count": 10,
   "id": "da138986",
   "metadata": {},
   "outputs": [
    {
     "data": {
      "text/plain": [
       "(6.6, 5.6)"
      ]
     },
     "execution_count": 10,
     "metadata": {},
     "output_type": "execute_result"
    }
   ],
   "source": [
    "# the same is possible for integers. You can use variables in operations:\n",
    "a = 1\n",
    "b = 5.6\n",
    "sum_ab = a + b\n",
    "product_ab = a * b\n",
    "\n",
    "sum_ab, product_ab"
   ]
  },
  {
   "cell_type": "code",
   "execution_count": 11,
   "id": "9eee821f",
   "metadata": {},
   "outputs": [
    {
     "name": "stdout",
     "output_type": "stream",
     "text": [
      "Hello, LCA Practitioner! Good Morning!\n"
     ]
    }
   ],
   "source": [
    "# Using the \"+\" operation on two strings will concatenate them:\n",
    "\n",
    "yourname = \"LCA Practitioner\"  # enter your name here\n",
    "\n",
    "print(\"Hello, \" + yourname + \"! \" + hello_str)"
   ]
  },
  {
   "cell_type": "code",
   "execution_count": 12,
   "id": "8dd1c026-b614-469c-9809-c040863200c1",
   "metadata": {},
   "outputs": [
    {
     "data": {
      "text/plain": [
       "'15'"
      ]
     },
     "execution_count": 12,
     "metadata": {},
     "output_type": "execute_result"
    }
   ],
   "source": [
    "# careful, numbers can be strings if you write them with \"\" or ''\n",
    "d = \"1\"\n",
    "e = \"5\"\n",
    "f = d + e\n",
    "f"
   ]
  },
  {
   "cell_type": "code",
   "execution_count": 13,
   "id": "209dd18f",
   "metadata": {},
   "outputs": [
    {
     "data": {
      "text/plain": [
       "'51'"
      ]
     },
     "execution_count": 13,
     "metadata": {},
     "output_type": "execute_result"
    }
   ],
   "source": [
    "g = e + d\n",
    "g"
   ]
  },
  {
   "cell_type": "markdown",
   "id": "cd2ef1c3-1343-4ea8-ab7c-548dc3594588",
   "metadata": {},
   "source": [
    "Two important data types you will use are lists and dictionaries.\n",
    "\n",
    "A list is an ordered group of elements, i.e., the first element of a list remains the first, the second remains the second, etc, everytime you call the list. Lists can contain any type of variable and you may mix types. Lists are indicated by square brackets:\n"
   ]
  },
  {
   "cell_type": "code",
   "execution_count": 14,
   "id": "4048cb4e",
   "metadata": {},
   "outputs": [
    {
     "data": {
      "text/plain": [
       "[1, 5.6, 6, 'hi', 'LCA Practitioner', 1, 14]"
      ]
     },
     "execution_count": 14,
     "metadata": {},
     "output_type": "execute_result"
    }
   ],
   "source": [
    "# creating a list with entries\n",
    "h = [a, b, 6, \"hi\", yourname, a, 14]\n",
    "h"
   ]
  },
  {
   "cell_type": "code",
   "execution_count": 15,
   "id": "2c7ea6ca-7d26-4592-beb0-f416204be4fc",
   "metadata": {},
   "outputs": [
    {
     "data": {
      "text/plain": [
       "[]"
      ]
     },
     "execution_count": 15,
     "metadata": {},
     "output_type": "execute_result"
    }
   ],
   "source": [
    "# creating an empty list\n",
    "h_empty = []\n",
    "h_empty"
   ]
  },
  {
   "cell_type": "code",
   "execution_count": 16,
   "id": "4f693e09-3be2-4348-b039-872a4174e52e",
   "metadata": {},
   "outputs": [
    {
     "data": {
      "text/plain": [
       "list"
      ]
     },
     "execution_count": 16,
     "metadata": {},
     "output_type": "execute_result"
    }
   ],
   "source": [
    "# even an empty list is recognized as a list:\n",
    "type([])"
   ]
  },
  {
   "cell_type": "code",
   "execution_count": 17,
   "id": "8f6322b4",
   "metadata": {},
   "outputs": [
    {
     "data": {
      "text/plain": [
       "1"
      ]
     },
     "execution_count": 17,
     "metadata": {},
     "output_type": "execute_result"
    }
   ],
   "source": [
    "# you can access the individual elements of your list by using an index in square brackets. INDEX STARTS AT 0 in Python\n",
    "h[0]"
   ]
  },
  {
   "cell_type": "code",
   "execution_count": 18,
   "id": "d45085ac",
   "metadata": {},
   "outputs": [
    {
     "data": {
      "text/plain": [
       "7"
      ]
     },
     "execution_count": 18,
     "metadata": {},
     "output_type": "execute_result"
    }
   ],
   "source": [
    "# a useful function when working with lists: find the length of your list using len()\n",
    "len(h)"
   ]
  },
  {
   "cell_type": "code",
   "execution_count": 19,
   "id": "967fde7d-bc77-4717-91c5-d457c3856041",
   "metadata": {},
   "outputs": [
    {
     "name": "stdout",
     "output_type": "stream",
     "text": [
      "1\n",
      "5.6\n",
      "6\n",
      "hi\n",
      "LCA Practitioner\n",
      "1\n",
      "14\n"
     ]
    }
   ],
   "source": [
    "# for iterating through your list, you can use a for-loop directly on the list (without using an index).\n",
    "# choose any name you would like for the running variable (here: element)\n",
    "for element in h:\n",
    "    print(element)"
   ]
  },
  {
   "cell_type": "markdown",
   "id": "ad601952-04e6-49c0-85cc-ec465db844ba",
   "metadata": {},
   "source": [
    "A very practical feature of Python : List comprehensions allow you to make a new list on the basis of a source list:\n"
   ]
  },
  {
   "cell_type": "code",
   "execution_count": 20,
   "id": "61c3b375",
   "metadata": {},
   "outputs": [
    {
     "data": {
      "text/plain": [
       "[int, float, int, str, str, int, int]"
      ]
     },
     "execution_count": 20,
     "metadata": {},
     "output_type": "execute_result"
    }
   ],
   "source": [
    "[type(element) for element in h]"
   ]
  },
  {
   "cell_type": "markdown",
   "id": "8312427a-7607-4ba3-bf12-821ec611dac4",
   "metadata": {},
   "source": [
    "Let's look closer at the statement above:\n",
    "\n",
    "- the square brackets indicate that we are creating a list\n",
    "- the short version of a for loop lets us apply a function: f(x) for x in source_list\n",
    "  - in this case, we use the type()-function\n",
    "  - you may read the contents of the square brackets as \"determine the type of each element in h\"\n",
    "  - this short version of a for loop only works within list comprehensions (=list creation). For instance: executing \"for x in h print (x)\" will not work\n"
   ]
  },
  {
   "cell_type": "code",
   "execution_count": 21,
   "id": "8486bad2-da02-486c-9e4b-573f05675bc3",
   "metadata": {},
   "outputs": [
    {
     "data": {
      "text/plain": [
       "[1, 5.6, 6, 'hi', 'LCA Practitioner', 1, 14]"
      ]
     },
     "execution_count": 21,
     "metadata": {},
     "output_type": "execute_result"
    }
   ],
   "source": [
    "# another example, without applying a function to the elements from the source_list h:\n",
    "[x for x in h]"
   ]
  },
  {
   "cell_type": "markdown",
   "id": "55dda6da-8f26-49b8-ab2b-96f6921a444a",
   "metadata": {},
   "source": [
    "In addition to applying functions to the elements, we may also filter the elements we want in our new list. Here we make a list of only non-Integer elements, and one list of their respective types:\n"
   ]
  },
  {
   "cell_type": "code",
   "execution_count": 22,
   "id": "8956a3fa-472f-4ae8-a4bd-4659cac6c028",
   "metadata": {},
   "outputs": [
    {
     "data": {
      "text/plain": [
       "[5.6, 'hi', 'LCA Practitioner']"
      ]
     },
     "execution_count": 22,
     "metadata": {},
     "output_type": "execute_result"
    }
   ],
   "source": [
    "[x for x in h if type(x) != int]"
   ]
  },
  {
   "cell_type": "code",
   "execution_count": 23,
   "id": "a647d90e-ca58-4441-b957-bf23a1a3e79f",
   "metadata": {},
   "outputs": [
    {
     "data": {
      "text/plain": [
       "[float, str, str]"
      ]
     },
     "execution_count": 23,
     "metadata": {},
     "output_type": "execute_result"
    }
   ],
   "source": [
    "[type(x) for x in h if type(x) != int]"
   ]
  },
  {
   "cell_type": "markdown",
   "id": "6a017135-55e5-4784-94e2-928e03f5fcf3",
   "metadata": {},
   "source": [
    "Also, lists have built-in function like .sort():\n"
   ]
  },
  {
   "cell_type": "code",
   "execution_count": 24,
   "id": "19f89bba-3fe8-490d-a93a-59a446624284",
   "metadata": {},
   "outputs": [],
   "source": [
    "integer_list = [x for x in h if type(x) == int]"
   ]
  },
  {
   "cell_type": "code",
   "execution_count": 25,
   "id": "d2200e3e",
   "metadata": {},
   "outputs": [
    {
     "data": {
      "text/plain": [
       "[1, 6, 1, 14]"
      ]
     },
     "execution_count": 25,
     "metadata": {},
     "output_type": "execute_result"
    }
   ],
   "source": [
    "integer_list"
   ]
  },
  {
   "cell_type": "code",
   "execution_count": 26,
   "id": "be08efdd",
   "metadata": {},
   "outputs": [
    {
     "data": {
      "text/plain": [
       "[1, 1, 6, 14]"
      ]
     },
     "execution_count": 26,
     "metadata": {},
     "output_type": "execute_result"
    }
   ],
   "source": [
    "integer_list.sort()\n",
    "integer_list"
   ]
  },
  {
   "cell_type": "code",
   "execution_count": 27,
   "id": "7c700424-6cc1-4d5c-830c-0360f35b1692",
   "metadata": {},
   "outputs": [
    {
     "data": {
      "text/plain": [
       "[376, 1, 6, 14]"
      ]
     },
     "execution_count": 27,
     "metadata": {},
     "output_type": "execute_result"
    }
   ],
   "source": [
    "# you can update elements of your list by using the index:\n",
    "integer_list[0] = 376\n",
    "integer_list"
   ]
  },
  {
   "cell_type": "code",
   "execution_count": 28,
   "id": "66da2eb9-aa7f-4671-8bf6-27d9b7ac82dc",
   "metadata": {},
   "outputs": [
    {
     "data": {
      "text/plain": [
       "[376, 1, 6, 14, 3]"
      ]
     },
     "execution_count": 28,
     "metadata": {},
     "output_type": "execute_result"
    }
   ],
   "source": [
    "# you can append elements to your list by using the append method\n",
    "integer_list.append(3)\n",
    "integer_list"
   ]
  },
  {
   "cell_type": "code",
   "execution_count": 29,
   "id": "d8ceebc6-9178-4a44-bb47-d7d4dc294bd1",
   "metadata": {},
   "outputs": [
    {
     "data": {
      "text/plain": [
       "[376, 1, 6, 14, 3, 1, 5.6, 6, 'hi', 'LCA Practitioner', 1, 14]"
      ]
     },
     "execution_count": 29,
     "metadata": {},
     "output_type": "execute_result"
    }
   ],
   "source": [
    "# you can add lists using \"+\"\n",
    "integer_list + h"
   ]
  },
  {
   "cell_type": "markdown",
   "id": "8a98290e-6012-4d65-935f-25da20cc1aab",
   "metadata": {},
   "source": [
    "Side note: Another data type related to lists, but not similar, is a tuple. a tuple is indicated using round brackets. Elements can be retrieved from a tuple just as list elements, i.e., using square brackets. However, you can not change elements of a tuple!\n"
   ]
  },
  {
   "cell_type": "code",
   "execution_count": 30,
   "id": "8c2c673c",
   "metadata": {},
   "outputs": [
    {
     "data": {
      "text/plain": [
       "(1, 5.6, 'LCA Practitioner')"
      ]
     },
     "execution_count": 30,
     "metadata": {},
     "output_type": "execute_result"
    }
   ],
   "source": [
    "# Tuple\n",
    "i = (a, b, yourname)\n",
    "i"
   ]
  },
  {
   "cell_type": "code",
   "execution_count": 31,
   "id": "e1ff2ceb",
   "metadata": {},
   "outputs": [
    {
     "data": {
      "text/plain": [
       "'LCA Practitioner'"
      ]
     },
     "execution_count": 31,
     "metadata": {},
     "output_type": "execute_result"
    }
   ],
   "source": [
    "i[2]"
   ]
  },
  {
   "cell_type": "code",
   "execution_count": 33,
   "id": "1f7b29c0-e4ce-4bb9-98b7-caeabbcffc7c",
   "metadata": {},
   "outputs": [],
   "source": [
    "# i[2] = \"Peter\"  # should not work"
   ]
  },
  {
   "cell_type": "markdown",
   "id": "d2f45d7b-d85d-421e-8566-6c470d4abc70",
   "metadata": {},
   "source": [
    "Finally, a dictionary contains key:value pairs. Both keys and values can have any data type. For instance, family members' names and ages could be stored like this:\n"
   ]
  },
  {
   "cell_type": "code",
   "execution_count": null,
   "id": "aedbee79",
   "metadata": {},
   "outputs": [],
   "source": [
    "# dictionary\n",
    "family_dict = {\"Erna\": 74, \"Gabriel\": 14, \"Susanne\": 45, \"Timo\": 17, \"Günther\": 19}"
   ]
  },
  {
   "cell_type": "code",
   "execution_count": null,
   "id": "9594c436",
   "metadata": {},
   "outputs": [
    {
     "data": {
      "text/plain": [
       "{'Erna': 74, 'Gabriel': 14, 'Susanne': 45, 'Timo': 17, 'Günther': 19}"
      ]
     },
     "execution_count": 34,
     "metadata": {},
     "output_type": "execute_result"
    }
   ],
   "source": [
    "family_dict"
   ]
  },
  {
   "cell_type": "code",
   "execution_count": null,
   "id": "6d3992f0",
   "metadata": {},
   "outputs": [
    {
     "data": {
      "text/plain": [
       "14"
      ]
     },
     "execution_count": 35,
     "metadata": {},
     "output_type": "execute_result"
    }
   ],
   "source": [
    "# find information using square brackets\n",
    "family_dict[\"Gabriel\"]"
   ]
  },
  {
   "cell_type": "code",
   "execution_count": null,
   "id": "bfbc0b83",
   "metadata": {},
   "outputs": [
    {
     "name": "stdout",
     "output_type": "stream",
     "text": [
      "buy beer for 4 people.\n"
     ]
    }
   ],
   "source": [
    "beer_shopping_list = [] # <- empty list\n",
    "for name, age in family_dict.items():\n",
    "    if age >= 16:\n",
    "        beer_shopping_list.append(name)\n",
    "\n",
    "print(\"buy beer for \" + str(len(beer_shopping_list)) + \" people.\")"
   ]
  },
  {
   "cell_type": "markdown",
   "id": "b8333d46",
   "metadata": {},
   "source": [
    "## LCA Tutorial\n"
   ]
  },
  {
   "cell_type": "markdown",
   "id": "1ca268ae-12e2-4a1b-9e11-4a1f5459307c",
   "metadata": {},
   "source": [
    "After this very short and basic Python intro, let's look into the Brightway Package for LCA calculations. If you don't understand everything yet, don't worry - you'll learn a lot by doing. If you have questions, feel free to ask.\n",
    "\n",
    "> The Brightway framework is pretty well documented. Check out the full documentation [here](https://docs.brightway.dev/en/latest/index.html). There is also a [Cheat Sheet](https://docs.brightway.dev/en/latest/content/cheatsheet/index.html) for the most important functionalities.\n",
    "\n",
    "Your LCA processes live in databases, and your databases live in projects. You need to select a project when working with brightway. we will list all projects below, and then set the current project.\n"
   ]
  },
  {
   "cell_type": "code",
   "execution_count": null,
   "id": "9673b4aa-2726-4c9b-b148-8d7a61815b9a",
   "metadata": {},
   "outputs": [],
   "source": [
    "bd.projects  # if this list does not include LCA_EPE, please take another look at the welcome.ipynb notebook"
   ]
  },
  {
   "cell_type": "code",
   "execution_count": 35,
   "id": "0e682914",
   "metadata": {},
   "outputs": [],
   "source": [
    "bd.projects.set_current(\"LCA_EPE\")"
   ]
  },
  {
   "cell_type": "code",
   "execution_count": null,
   "id": "f7cf8d4d",
   "metadata": {},
   "outputs": [],
   "source": [
    "bd.databases"
   ]
  },
  {
   "cell_type": "markdown",
   "id": "edf748e3-d6a4-48d6-bec5-4eb5d0e7dce8",
   "metadata": {},
   "source": [
    "We have pre-installed the ecoinvent database, a biosphere database, and some other databases that you do not need to worry about yet. The biosphere database includes all elementary flows to and from the environment. The ecoinvent database contains inventory information on technical processes. To access them easily later, we give them nice and short names:\n"
   ]
  },
  {
   "cell_type": "code",
   "execution_count": 37,
   "id": "319f9c3d",
   "metadata": {},
   "outputs": [],
   "source": [
    "# definition of the databases\n",
    "eidb = bd.Database(\"ecoinvent-3.10-cutoff\")\n",
    "bsdb = bd.Database(\"ecoinvent-3.10-biosphere\")"
   ]
  },
  {
   "cell_type": "code",
   "execution_count": 38,
   "id": "212614ea-f022-41ab-9c40-dab35fc5a8a4",
   "metadata": {},
   "outputs": [
    {
     "data": {
      "text/plain": [
       "23523"
      ]
     },
     "execution_count": 38,
     "metadata": {},
     "output_type": "execute_result"
    }
   ],
   "source": [
    "# check out how many processes there are in ecoinvent!\n",
    "len(eidb)"
   ]
  },
  {
   "cell_type": "markdown",
   "id": "0ab8ad69",
   "metadata": {},
   "source": [
    "### Your first very short LCA study\n",
    "\n",
    "We will now guide you through a very simple LCA study to set you up for your first own study in task 2.\n",
    "\n",
    "We choose a random process that will make up our functional unit:"
   ]
  },
  {
   "cell_type": "code",
   "execution_count": 39,
   "id": "d84c1d87",
   "metadata": {},
   "outputs": [
    {
     "data": {
      "text/plain": [
       "'purification of wet-process phosphoric acid to industrial grade, product in 85% solution state' (kilogram, RER, None)"
      ]
     },
     "execution_count": 39,
     "metadata": {},
     "output_type": "execute_result"
    }
   ],
   "source": [
    "# random process of the ecoinvent database\n",
    "pro = eidb.random()\n",
    "pro  # shows which process was selected"
   ]
  },
  {
   "cell_type": "code",
   "execution_count": 40,
   "id": "e9883fb8",
   "metadata": {},
   "outputs": [],
   "source": [
    "# functional unit is a dictionary with one entry of the form process:amount\n",
    "fu = {pro: 1}"
   ]
  },
  {
   "cell_type": "markdown",
   "id": "2f37aaea",
   "metadata": {},
   "source": [
    "Afterwards, we also need an impact assessment method in order to calculate the LCA:\n"
   ]
  },
  {
   "cell_type": "code",
   "execution_count": 41,
   "id": "679e197e",
   "metadata": {},
   "outputs": [
    {
     "data": {
      "text/plain": [
       "('ReCiPe 2016 v1.03, midpoint (E) no LT',\n",
       " 'ecotoxicity: terrestrial no LT',\n",
       " 'terrestrial ecotoxicity potential (TETP) no LT')"
      ]
     },
     "execution_count": 41,
     "metadata": {},
     "output_type": "execute_result"
    }
   ],
   "source": [
    "method = bd.methods.random()\n",
    "method"
   ]
  },
  {
   "cell_type": "markdown",
   "id": "a341e4d4-5665-4d1e-9631-75e3860fb95b",
   "metadata": {},
   "source": [
    "Now that we have everything we need for the calculation, we instantiate a new \"LCA\" object with our functional unit and the method. Then, in the cell below, we run the calculation using the methods .lci and .lcia.\n"
   ]
  },
  {
   "cell_type": "code",
   "execution_count": 42,
   "id": "c88882aa",
   "metadata": {},
   "outputs": [],
   "source": [
    "mylca = bc.LCA(fu, method)"
   ]
  },
  {
   "cell_type": "code",
   "execution_count": 43,
   "id": "ad77cb53",
   "metadata": {},
   "outputs": [
    {
     "data": {
      "text/plain": [
       "31.08427451845836"
      ]
     },
     "execution_count": 43,
     "metadata": {},
     "output_type": "execute_result"
    }
   ],
   "source": [
    "mylca.lci()  # necessary! constructs the technosphere matrix and determines LCI and supply array (s vector)\n",
    "mylca.lcia()  # necessary! characterizes the LCI in the chosen impact assessment method\n",
    "mylca.score  # result of the LCA study"
   ]
  },
  {
   "cell_type": "markdown",
   "id": "37467afb-e476-4dd3-b628-34cb93236b10",
   "metadata": {},
   "source": [
    "Our first LCA study is done. Of course, there is a lot of calculation work in the background that you did not see in this assessment. In lecture 3, you will learn more about the mathematics behind LCA. For now, just know that you can access a lot of information on the LCA study you just calculated using the commands below.\n"
   ]
  },
  {
   "cell_type": "markdown",
   "id": "02148e6d",
   "metadata": {},
   "source": [
    "By the way, if at any point you don't know which commands can follow 'mylca.', you can press 'tab' with your cursor located behind the \".\":\n"
   ]
  },
  {
   "cell_type": "code",
   "execution_count": 44,
   "id": "06f0be9c",
   "metadata": {},
   "outputs": [
    {
     "ename": "SyntaxError",
     "evalue": "invalid syntax (1841291738.py, line 1)",
     "output_type": "error",
     "traceback": [
      "\u001b[0;36m  Cell \u001b[0;32mIn[44], line 1\u001b[0;36m\u001b[0m\n\u001b[0;31m    mylca.\u001b[0m\n\u001b[0m          ^\u001b[0m\n\u001b[0;31mSyntaxError\u001b[0m\u001b[0;31m:\u001b[0m invalid syntax\n"
     ]
    }
   ],
   "source": [
    "mylca."
   ]
  },
  {
   "cell_type": "markdown",
   "id": "d1f23362",
   "metadata": {},
   "source": [
    "Also, if you are not sure what a certain function does or what inputs it requires, you can use Jupyter's help function by adding a question mark after the function name:\n"
   ]
  },
  {
   "cell_type": "code",
   "execution_count": null,
   "id": "9fc1c3d7",
   "metadata": {},
   "outputs": [
    {
     "name": "stdout",
     "output_type": "stream",
     "text": [
      "\u001b[0;31mSignature:\u001b[0m \u001b[0mmylca\u001b[0m\u001b[0;34m.\u001b[0m\u001b[0mlci\u001b[0m\u001b[0;34m(\u001b[0m\u001b[0mdemand\u001b[0m\u001b[0;34m:\u001b[0m \u001b[0mOptional\u001b[0m\u001b[0;34m[\u001b[0m\u001b[0mdict\u001b[0m\u001b[0;34m]\u001b[0m \u001b[0;34m=\u001b[0m \u001b[0;32mNone\u001b[0m\u001b[0;34m,\u001b[0m \u001b[0mfactorize\u001b[0m\u001b[0;34m:\u001b[0m \u001b[0mbool\u001b[0m \u001b[0;34m=\u001b[0m \u001b[0;32mFalse\u001b[0m\u001b[0;34m)\u001b[0m \u001b[0;34m->\u001b[0m \u001b[0;32mNone\u001b[0m\u001b[0;34m\u001b[0m\u001b[0;34m\u001b[0m\u001b[0m\n",
      "\u001b[0;31mDocstring:\u001b[0m\n",
      "Calculate a life cycle inventory.\n",
      "\n",
      "#. Load LCI data, and construct the technosphere and biosphere matrices.\n",
      "#. Build the demand array\n",
      "#. Solve the linear system to get the supply array and life cycle inventory.\n",
      "\n",
      "Args:\n",
      "    * *factorize* (bool, optional): Factorize the technosphere matrix. Makes additional calculations with the same technosphere matrix much faster. Default is ``False``; not useful is only doing one LCI calculation.\n",
      "    * *builder* (``MatrixBuilder`` object, optional): Default is ``bw2calc.matrices.MatrixBuilder``, which is fine for most cases. Custom matrix builders can be used to manipulate data in creative ways before building the matrices.\n",
      "\n",
      "Doesn't return anything, but creates ``self.supply_array`` and ``self.inventory``.\n",
      "\u001b[0;31mFile:\u001b[0m      ~/anaconda3/envs/lcaepe/lib/python3.11/site-packages/bw2calc/lca.py\n",
      "\u001b[0;31mType:\u001b[0m      method"
     ]
    }
   ],
   "source": [
    "mylca.lci?"
   ]
  },
  {
   "cell_type": "markdown",
   "id": "b2fa8de9",
   "metadata": {},
   "source": [
    "And if you want to see the entire source code, just append two question marks:\n"
   ]
  },
  {
   "cell_type": "code",
   "execution_count": 45,
   "id": "517e5548",
   "metadata": {},
   "outputs": [
    {
     "name": "stdout",
     "output_type": "stream",
     "text": [
      "\u001b[0;31mSignature:\u001b[0m \u001b[0mmylca\u001b[0m\u001b[0;34m.\u001b[0m\u001b[0mlci\u001b[0m\u001b[0;34m(\u001b[0m\u001b[0mdemand\u001b[0m\u001b[0;34m:\u001b[0m \u001b[0mOptional\u001b[0m\u001b[0;34m[\u001b[0m\u001b[0mdict\u001b[0m\u001b[0;34m]\u001b[0m \u001b[0;34m=\u001b[0m \u001b[0;32mNone\u001b[0m\u001b[0;34m,\u001b[0m \u001b[0mfactorize\u001b[0m\u001b[0;34m:\u001b[0m \u001b[0mbool\u001b[0m \u001b[0;34m=\u001b[0m \u001b[0;32mFalse\u001b[0m\u001b[0;34m)\u001b[0m \u001b[0;34m->\u001b[0m \u001b[0;32mNone\u001b[0m\u001b[0;34m\u001b[0m\u001b[0;34m\u001b[0m\u001b[0m\n",
      "\u001b[0;31mSource:\u001b[0m   \n",
      "    \u001b[0;32mdef\u001b[0m \u001b[0mlci\u001b[0m\u001b[0;34m(\u001b[0m\u001b[0mself\u001b[0m\u001b[0;34m,\u001b[0m \u001b[0mdemand\u001b[0m\u001b[0;34m:\u001b[0m \u001b[0mOptional\u001b[0m\u001b[0;34m[\u001b[0m\u001b[0mdict\u001b[0m\u001b[0;34m]\u001b[0m \u001b[0;34m=\u001b[0m \u001b[0;32mNone\u001b[0m\u001b[0;34m,\u001b[0m \u001b[0mfactorize\u001b[0m\u001b[0;34m:\u001b[0m \u001b[0mbool\u001b[0m \u001b[0;34m=\u001b[0m \u001b[0;32mFalse\u001b[0m\u001b[0;34m)\u001b[0m \u001b[0;34m->\u001b[0m \u001b[0;32mNone\u001b[0m\u001b[0;34m:\u001b[0m\u001b[0;34m\u001b[0m\n",
      "\u001b[0;34m\u001b[0m        \u001b[0;34m\"\"\"\u001b[0m\n",
      "\u001b[0;34m        Calculate a life cycle inventory.\u001b[0m\n",
      "\u001b[0;34m\u001b[0m\n",
      "\u001b[0;34m        #. Load LCI data, and construct the technosphere and biosphere\u001b[0m\n",
      "\u001b[0;34m            matrices.\u001b[0m\n",
      "\u001b[0;34m        #. Build the demand array\u001b[0m\n",
      "\u001b[0;34m        #. Solve the linear system to get the supply array and life cycle\u001b[0m\n",
      "\u001b[0;34m            inventory.\u001b[0m\n",
      "\u001b[0;34m\u001b[0m\n",
      "\u001b[0;34m        Args:\u001b[0m\n",
      "\u001b[0;34m            * *factorize* (bool, optional): Factorize the technosphere matrix.\u001b[0m\n",
      "\u001b[0;34m            Makes additional calculations with the same technosphere matrix\u001b[0m\n",
      "\u001b[0;34m            much faster. Default is ``False``; not useful is only doing one LCI\u001b[0m\n",
      "\u001b[0;34m            calculation.\u001b[0m\n",
      "\u001b[0;34m            * *builder* (``MatrixBuilder`` object, optional): Default is\u001b[0m\n",
      "\u001b[0;34m            ``bw2calc.matrices.MatrixBuilder``, which is fine for most cases.\u001b[0m\n",
      "\u001b[0;34m            Custom matrix builders can be used to manipulate data in creative\u001b[0m\n",
      "\u001b[0;34m            ways before building the matrices.\u001b[0m\n",
      "\u001b[0;34m\u001b[0m\n",
      "\u001b[0;34m        Doesn't return anything, but creates ``self.supply_array`` and\u001b[0m\n",
      "\u001b[0;34m        ``self.inventory``.\u001b[0m\n",
      "\u001b[0;34m\u001b[0m\n",
      "\u001b[0;34m        \"\"\"\u001b[0m\u001b[0;34m\u001b[0m\n",
      "\u001b[0;34m\u001b[0m        \u001b[0;32mif\u001b[0m \u001b[0;32mnot\u001b[0m \u001b[0mhasattr\u001b[0m\u001b[0;34m(\u001b[0m\u001b[0mself\u001b[0m\u001b[0;34m,\u001b[0m \u001b[0;34m\"technosphere_matrix\"\u001b[0m\u001b[0;34m)\u001b[0m\u001b[0;34m:\u001b[0m\u001b[0;34m\u001b[0m\n",
      "\u001b[0;34m\u001b[0m            \u001b[0mself\u001b[0m\u001b[0;34m.\u001b[0m\u001b[0mload_lci_data\u001b[0m\u001b[0;34m(\u001b[0m\u001b[0;34m)\u001b[0m\u001b[0;34m\u001b[0m\n",
      "\u001b[0;34m\u001b[0m        \u001b[0;32mif\u001b[0m \u001b[0mdemand\u001b[0m \u001b[0;32mis\u001b[0m \u001b[0;32mnot\u001b[0m \u001b[0;32mNone\u001b[0m\u001b[0;34m:\u001b[0m\u001b[0;34m\u001b[0m\n",
      "\u001b[0;34m\u001b[0m            \u001b[0mself\u001b[0m\u001b[0;34m.\u001b[0m\u001b[0mcheck_demand\u001b[0m\u001b[0;34m(\u001b[0m\u001b[0mdemand\u001b[0m\u001b[0;34m)\u001b[0m\u001b[0;34m\u001b[0m\n",
      "\u001b[0;34m\u001b[0m            \u001b[0mself\u001b[0m\u001b[0;34m.\u001b[0m\u001b[0mbuild_demand_array\u001b[0m\u001b[0;34m(\u001b[0m\u001b[0mdemand\u001b[0m\u001b[0;34m)\u001b[0m\u001b[0;34m\u001b[0m\n",
      "\u001b[0;34m\u001b[0m            \u001b[0mself\u001b[0m\u001b[0;34m.\u001b[0m\u001b[0mdemand\u001b[0m \u001b[0;34m=\u001b[0m \u001b[0mdemand\u001b[0m\u001b[0;34m\u001b[0m\n",
      "\u001b[0;34m\u001b[0m        \u001b[0;32melse\u001b[0m\u001b[0;34m:\u001b[0m\u001b[0;34m\u001b[0m\n",
      "\u001b[0;34m\u001b[0m            \u001b[0mself\u001b[0m\u001b[0;34m.\u001b[0m\u001b[0mbuild_demand_array\u001b[0m\u001b[0;34m(\u001b[0m\u001b[0;34m)\u001b[0m\u001b[0;34m\u001b[0m\n",
      "\u001b[0;34m\u001b[0m        \u001b[0;32mif\u001b[0m \u001b[0mfactorize\u001b[0m \u001b[0;32mand\u001b[0m \u001b[0;32mnot\u001b[0m \u001b[0mPYPARDISO\u001b[0m\u001b[0;34m:\u001b[0m\u001b[0;34m\u001b[0m\n",
      "\u001b[0;34m\u001b[0m            \u001b[0mself\u001b[0m\u001b[0;34m.\u001b[0m\u001b[0mdecompose_technosphere\u001b[0m\u001b[0;34m(\u001b[0m\u001b[0;34m)\u001b[0m\u001b[0;34m\u001b[0m\n",
      "\u001b[0;34m\u001b[0m        \u001b[0mself\u001b[0m\u001b[0;34m.\u001b[0m\u001b[0mlci_calculation\u001b[0m\u001b[0;34m(\u001b[0m\u001b[0;34m)\u001b[0m\u001b[0;34m\u001b[0m\u001b[0;34m\u001b[0m\u001b[0m\n",
      "\u001b[0;31mFile:\u001b[0m      ~/anaconda3/envs/lcaepe/lib/python3.11/site-packages/bw2calc/lca_base.py\n",
      "\u001b[0;31mType:\u001b[0m      method"
     ]
    }
   ],
   "source": [
    "mylca.lci??"
   ]
  },
  {
   "cell_type": "code",
   "execution_count": 46,
   "id": "9735a64e",
   "metadata": {},
   "outputs": [
    {
     "data": {
      "text/plain": [
       "('ReCiPe 2016 v1.03, midpoint (E) no LT',\n",
       " 'ecotoxicity: terrestrial no LT',\n",
       " 'terrestrial ecotoxicity potential (TETP) no LT')"
      ]
     },
     "execution_count": 46,
     "metadata": {},
     "output_type": "execute_result"
    }
   ],
   "source": [
    "# to get more information about the calculated lca\n",
    "mylca.method"
   ]
  },
  {
   "cell_type": "code",
   "execution_count": 47,
   "id": "6f92e71c",
   "metadata": {},
   "outputs": [],
   "source": [
    "# mylca.technosphere_matrix # A Matrix\n",
    "# mylca.biosphere_matrix # B Matrix\n",
    "# mylca.characterization_matrix # Q Matrix\n",
    "# mylca.inventory # G Matrix\n",
    "# mylca.characterized_inventory # H Matrix"
   ]
  },
  {
   "cell_type": "markdown",
   "id": "1a5a2daa",
   "metadata": {},
   "source": [
    "### Searching for processes in the ecoinvent database\n",
    "\n",
    "Before you can calculate an LCA study for a process, you need to know where to find it and what it looks like!\n",
    "In brightway, processes are called \"activities\". To find a specific activity, we can search using numerous properties, such as the name or the location. So let's search ecoinvent for the process 'methanol production' in 'GLO' (location).\n"
   ]
  },
  {
   "cell_type": "code",
   "execution_count": 48,
   "id": "17350de8",
   "metadata": {},
   "outputs": [
    {
     "data": {
      "text/plain": [
       "['methanol production, natural gas reforming' (kilogram, RER, None),\n",
       " 'formaldehyde production, methanol oxidation ' (kilogram, RER, None),\n",
       " 'formaldehyde production, methanol oxidation ' (kilogram, RER, None),\n",
       " 'acetic acid production, methanol carboxylation (Monsanto), product in 98% solution state' (kilogram, RER, None),\n",
       " 'acetic acid production, methanol carboxylation (Monsanto), product in 98% solution state' (kilogram, RER, None),\n",
       " 'sulfate pulp production, from hardwood, bleached' (kilogram, RER, None),\n",
       " 'sulfate pulp production, from softwood, bleached' (kilogram, RER, None),\n",
       " 'sulfate pulp production, from hardwood, bleached' (kilogram, RoW, None),\n",
       " 'sulfate pulp production, from softwood, bleached' (kilogram, RoW, None),\n",
       " 'methyl formate production' (kilogram, RER, None),\n",
       " 'dimethyl carbonate production' (kilogram, RER, None),\n",
       " 'dimethyl carbonate production' (kilogram, RER, None),\n",
       " 'butyl acrylate production' (kilogram, RER, None),\n",
       " 'trimethylamine production' (kilogram, RER, None),\n",
       " 'dimethyl sulfoxide production' (kilogram, RER, None),\n",
       " 'dimethyl sulfide production' (kilogram, RER, None),\n",
       " 'methyl iodide production' (kilogram, RER, None),\n",
       " 'formic acid production, methyl formate route' (kilogram, RER, None),\n",
       " 'sodium dithionite production, anhydrous' (kilogram, RER, None),\n",
       " 'dimethylamine production' (kilogram, RER, None),\n",
       " 'methylamine production' (kilogram, RER, None),\n",
       " 'chloromethyl methyl ether production' (kilogram, RER, None),\n",
       " 'hydroxylamine production' (kilogram, RER, None),\n",
       " 'dipropylene glycol monomethyl ether production' (kilogram, RER, None),\n",
       " 'dimethyl ether production' (kilogram, RER, None)]"
      ]
     },
     "execution_count": 48,
     "metadata": {},
     "output_type": "execute_result"
    }
   ],
   "source": [
    "eidb.search(\"methanol production RER\")"
   ]
  },
  {
   "cell_type": "markdown",
   "id": "92136c8e",
   "metadata": {},
   "source": [
    "The search function returns a list of possible matches, with its entries sorted by relevance. It searches across different fields in the database (check eidb.search? for more details). The first entry is the one that is, across all fields, most likely to be the one you are looking for.\n",
    "\n",
    "It makes sense to use the search function if you just want to get an overview of what activities actually exist in ecoinvent. However, if you already know what exactly you're looking for, it can be useful to use list comprehension to search the database \"manually\" and explicitly look for matches in certain fields:\n"
   ]
  },
  {
   "cell_type": "code",
   "execution_count": 49,
   "id": "a19eaf97-2b4b-4bed-b196-1070ce34cc61",
   "metadata": {},
   "outputs": [
    {
     "data": {
      "text/plain": [
       "['methanol production, natural gas reforming' (kilogram, RoW, None),\n",
       " 'methanol production, natural gas reforming' (kilogram, RER, None),\n",
       " 'methanol production, natural gas reforming' (kilogram, US, None),\n",
       " 'methanol production, biomass gasification' (kilogram, RoW, None),\n",
       " 'methanol production, coal gasification' (kilogram, RoW, None),\n",
       " 'methanol production, biomass gasification' (kilogram, CH, None),\n",
       " 'methanol production, natural gas reforming' (kilogram, CN, None),\n",
       " 'methanol production, coal gasification' (kilogram, CN, None)]"
      ]
     },
     "execution_count": 49,
     "metadata": {},
     "output_type": "execute_result"
    }
   ],
   "source": [
    "[act for act in eidb if \"methanol production\" in act[\"name\"]]"
   ]
  },
  {
   "cell_type": "code",
   "execution_count": 50,
   "id": "14ceb59d-0003-4305-976b-13bddecaa9b8",
   "metadata": {},
   "outputs": [
    {
     "data": {
      "text/plain": [
       "['methanol production, natural gas reforming' (kilogram, RER, None)]"
      ]
     },
     "execution_count": 50,
     "metadata": {},
     "output_type": "execute_result"
    }
   ],
   "source": [
    "# let's refine our search by using the location\n",
    "[\n",
    "    act\n",
    "    for act in eidb\n",
    "    if \"methanol production\" in act[\"name\"] and \"RER\" in act[\"location\"]\n",
    "]"
   ]
  },
  {
   "cell_type": "markdown",
   "id": "0df3de88",
   "metadata": {},
   "source": [
    "If we already know which activity we're looking for, we can also use bw2data's `get_node()` method. Note that in this case you need to know the entire name / location / ... of the process and you can't put in substrings. One upside of using get_node is that this will raise an error of there are multiple results. \n"
   ]
  },
  {
   "cell_type": "code",
   "execution_count": 51,
   "metadata": {},
   "outputs": [
    {
     "data": {
      "text/plain": [
       "'methanol production, natural gas reforming' (kilogram, RER, None)"
      ]
     },
     "execution_count": 51,
     "metadata": {},
     "output_type": "execute_result"
    }
   ],
   "source": [
    "bd.get_node(database=\"ecoinvent-3.10-cutoff\", name=\"methanol production, natural gas reforming\", location=\"RER\")"
   ]
  },
  {
   "cell_type": "markdown",
   "id": "eab1fa82",
   "metadata": {},
   "source": [
    "Let's save this as a new variable:\n"
   ]
  },
  {
   "cell_type": "code",
   "execution_count": 52,
   "id": "864a408f",
   "metadata": {},
   "outputs": [],
   "source": [
    "meoh = bd.get_node(database=\"ecoinvent-3.10-cutoff\", name=\"methanol production, natural gas reforming\", location=\"RER\")"
   ]
  },
  {
   "cell_type": "markdown",
   "id": "28b5fcb8-67bb-44ae-b8a3-11d192d46cf1",
   "metadata": {},
   "source": [
    "Activities can also work a lot like dictionaries: their metadata is stored in key:value pairs. We can thus look at the activity as a dictionary, where you will find most of the data available on the activity.\n"
   ]
  },
  {
   "cell_type": "code",
   "execution_count": 53,
   "id": "37442421-9e1c-4975-956a-3fb4c6473201",
   "metadata": {
    "scrolled": true
   },
   "outputs": [
    {
     "data": {
      "text/plain": [
       "{'comment': 'This dataset represents the production of 1 kg of methanol from natural gas. Methanol (CH3OH) is a clear, colourless, volatile liquid with a faint alcohol-like odour. Methanol is the simplest of the alcohols, having only one carbon atom, and is completely miscible in water. Methanol easily dissolves in other alcohols and chlorinated hydrocarbons, but has limited solubility in diesel fuel, vegetable oils, and aliphatic hydrocarbons.\\nAs of 2000, more than 70% of the methanol produced worldwide is used in chemical syntheses. In order of importance the produced methanol was used as follows:\\n- Formaldehyde: 34% of production.\\n- Methyl tert-butyl ether (MTBE): 28% of production.\\n- Acetic acid: 10% of production.\\n- Methyl methacrylate (MMA): 3% of production.\\n- Dimethyl terephthalate (DMT). 2% of production.\\nOnly a small proportion is used for energy production (2% of production), although this use has great potential for vehicles with internal combustion engines.\\nCommercial production of methanol is based on synthesis gas mixtures (carbon monoxide and hydrogen) derived primarily from natural gas.\\nThis dataset represents the production of methanol using the steam reforming process. The inventory is based on data from literature and reports on plant design or efficiency.\\nReferences:\\nAlthaus H.-J., Chudacoff M., Hischier R., Jungbluth N., Osses M. and Primas A. (2007) Life Cycle Inventories of Chemicals. ecoinvent report No. 8, v2.0. EMPA Dübendorf, Swiss Centre for Life Cycle Inventories, Dübendorf, CH.\\nGeography:  This dataset is modelled at the European level. Namely, this activity originates from literature data, based on robust modelling, for the production of methanol from steam methane reforming at a site located at the North East coast of the Neatherlands. The material and energy inputs reflect well the production technology and are, therefore, considered to be valid for the chosen geography.\\nReferences:\\nLiu, Yigang, Guoxuan Li, Zhengrun Chen, Yuanyuan Shen, Hongru Zhang, Shuai Wang, Jianguang Qi, Zhaoyou Zhu, Yinglong Wang, and Jun Gao. \"Comprehensive analysis of environmental impacts and energy consumption of biomass-to-methanol and coal-to-methanol via life cycle assessment.\" Energy 204 (2020): 117961.\\nTechnology:  In general, for normal methanol synthesis, reforming is performed in one step in a tubular reactor at 850 – 900 °C in order to leave as little methane as possible in the synthesis gas. For large methanol synthesis plants, Lurgi has introduced a two-step combination (combined reforming process) that gives better results. In the primary tubular reformer, lower temperature (ca. 800 °C) but higher pressure (2.5-4.0 MPa instead of 1.5-2.5 MPa) are applied.\\nMore recently, Lurgi developed another two-step gas production scheme. It is based on catalytic autothermal reforming with an adiabatic performer and has economic advantages for very large methanol plants. At locations where no carbon dioxide is available most of the methanol plants are based on the following gas production technologies, depending on their capacities: steam reforming for capacities up to 2000 t/d or combined reforming from 1800 to 2500 t/d (Ullmann 2001).\\nMethanol produced using a low-pressure steam reforming process (ICI LPM) account for approximately 60% of the world capacity (Synetix 2000a). Besides steam reforming, combined reforming has gained importance due to the production of methanol in large plants at remote locations. \\nThe reaction of the steam-reforming route can be formulated for methane, the major constituent of natural gas, as follows:\\nSynthesis gas preparation:\\nCH4 + H2O → CO + 3 H2; ΔH = 206 kJ mol-1\\nCO + H2O → CO2 + H2; ΔH = - 41 kJ mol-1\\nMethanol synthesis:\\nCO + 2 H2 → CH3OH; ΔH = -98 kJ mol-1\\nCO2 + 3 H2 → CH3OH + H2O; ΔH = -58 kJ mol-1\\nFor an average plant the total carbon efficiency is around 75%, 81% for the synthesis gas preparation and 93% for the methanol synthesis (Le Blanc et al. 1994, p. 114). For steam reformers usually a steam to carbon ratio of 3:1 to 3.5:1 is used.\\nAs methanol production is a highly integrated process with a complicated steam system, heat recovery and often also internal electricity production (out of excess steam), there were only data of the efficiency and energy consumption of the total process available. Therefore, the process was not divided into a reforming process, a synthesis process and a purification process for estimating the energy and resource flows. Also, the energy and resource flows in the methanol production plants are site specific (dependent on the local availability of resources such as CO2, O2, or electricity). \\nIn this dataset, typical values for a methanol plant, where methanol is prepared from natural gas through a single train of combined reformers. Namely, the most important units are the following: the conventional steam methane reformer (SMR), followed by an oxygen blown autothermal reformer (ATR), and the methanol synthesis and purification stage, yielding AA grade methanol. Finally, auxiliary inputs and process steps are also covered in this datasets, e.g., infrastructure, feedstock pre-treatment and catalytic system(s), among others, \\nReferences:\\nAlthaus H.-J., Chudacoff M., Hischier R., Jungbluth N., Osses M. and Primas A. (2007) Life Cycle Inventories of Chemicals. ecoinvent report No. 8, v2.0. EMPA Dübendorf, Swiss Centre for Life Cycle Inventories, Dübendorf, CH.\\nSantos, S. O., Collodi, G., Azzaro, G., & Ferrari, N. (2017). Techno-economic evaluation of Hyco plant integrated to ammonia/urea or methanol production with CCS. IEAGHG.\\nLe Blanc J. R., Schneider R. V., Ill and Strait R. B. (1994) Production of Methanol. In: Methanol Production and Use, Vol. 1 (ed. Cheng W.-H.). pp. 51-132. Marcel Dekker Inc, New York.\\nUllmann (2001) Methanol, Chapter 4, 6, 8, 10. In: Ullmann\\'s Encyclopedia of Industrial Chemistry, Sixth Edition, June-2001 Electronic Release (ed. Fiedler E., Grossmann G., Kersebohm D., Weiss G. and Witte C.). 6 th Electronic Release Edition. Wiley InterScience, New York, Online-Version under: http://www.mrw.interscience.wiley.com/ueic/ull_search_fs.html.\\nTime period:  This activity originates from literature data, based on robust modelling, for the production of methanol from steam methane reforming, published in 2017. The material and energy inputs reflect well the production technology and not expected to change significantly over time.\\nReferences:\\nSantos, S. O., Collodi, G., Azzaro, G., & Ferrari, N. (2017). Techno-economic evaluation of Hyco plant integrated to ammonia/urea or methanol production with CCS. IEAGHG.',\n",
       " 'classifications': [('ISIC rev.4 ecoinvent',\n",
       "   '2011:Manufacture of basic chemicals'),\n",
       "  ('CPC',\n",
       "   '34139: Other alcohols, phenols, phenol-alcohols, and their halogenated, sulphonated, nitrated or nitrosated derivativ[…]')],\n",
       " 'activity type': 'ordinary transforming activity',\n",
       " 'activity': '215178d0-613d-57ef-a641-865ef526ee2e',\n",
       " 'database': 'ecoinvent-3.10-cutoff',\n",
       " 'filename': '215178d0-613d-57ef-a641-865ef526ee2e_4a0b47d3-c643-4b67-841b-b5689787f7a1.spold',\n",
       " 'location': 'RER',\n",
       " 'name': 'methanol production, natural gas reforming',\n",
       " 'synonyms': ['Wood spirit',\n",
       "  'Methyl alcohol',\n",
       "  'Wood alcohol',\n",
       "  'Carbinol',\n",
       "  'Methylol'],\n",
       " 'parameters': [],\n",
       " 'authors': {'data entry': {'name': 'Iasonas Ioannou',\n",
       "   'email': 'ioannou@ecoinvent.org'},\n",
       "  'data generator': {'name': 'Iasonas Ioannou',\n",
       "   'email': 'ioannou@ecoinvent.org'}},\n",
       " 'type': 'process',\n",
       " 'reference product': 'methanol',\n",
       " 'flow': '4a0b47d3-c643-4b67-841b-b5689787f7a1',\n",
       " 'unit': 'kilogram',\n",
       " 'production amount': 1.0,\n",
       " 'code': 'f612882f9b229183406088a97871ffca',\n",
       " 'id': 19684}"
      ]
     },
     "execution_count": 53,
     "metadata": {},
     "output_type": "execute_result"
    }
   ],
   "source": [
    "meoh.as_dict()"
   ]
  },
  {
   "cell_type": "markdown",
   "id": "42350d03",
   "metadata": {},
   "source": [
    "You can directly access the attributes of the activity, just like a normal dict:\n"
   ]
  },
  {
   "cell_type": "code",
   "execution_count": 54,
   "id": "3d0402ff",
   "metadata": {},
   "outputs": [
    {
     "data": {
      "text/plain": [
       "'kilogram'"
      ]
     },
     "execution_count": 54,
     "metadata": {},
     "output_type": "execute_result"
    }
   ],
   "source": [
    "meoh[\"unit\"]"
   ]
  },
  {
   "cell_type": "markdown",
   "id": "c8baa3ac",
   "metadata": {},
   "source": [
    "What is missing so far is the list of \"exchanges\", i.e., the inputs and outputs of the activity. Exchanges can be accessed using .exchanges() on an activity. We will list them either using list comprehension...\n"
   ]
  },
  {
   "cell_type": "code",
   "execution_count": 55,
   "id": "a8ddb911",
   "metadata": {
    "scrolled": true
   },
   "outputs": [
    {
     "data": {
      "text/plain": [
       "[Exchange: 1.0 kilogram 'methanol production, natural gas reforming' (kilogram, RER, None) to 'methanol production, natural gas reforming' (kilogram, RER, None)>,\n",
       " Exchange: 0.00024 kilogram 'market for aluminium oxide, non-metallurgical' (kilogram, IAI Area, EU27 & EFTA, None) to 'methanol production, natural gas reforming' (kilogram, RER, None)>,\n",
       " Exchange: 9e-05 kilogram 'market for copper oxide' (kilogram, GLO, None) to 'methanol production, natural gas reforming' (kilogram, RER, None)>,\n",
       " Exchange: 0.088642952 kilowatt hour 'market group for electricity, medium voltage' (kilowatt hour, RER, None) to 'methanol production, natural gas reforming' (kilogram, RER, None)>,\n",
       " Exchange: 0.01 megajoule 'market group for heat, district or industrial, natural gas' (megajoule, RER, None) to 'methanol production, natural gas reforming' (kilogram, RER, None)>,\n",
       " Exchange: 3.72e-11 unit 'market for methanol factory' (unit, GLO, None) to 'methanol production, natural gas reforming' (kilogram, RER, None)>,\n",
       " Exchange: 1e-05 kilogram 'market for molybdenum trioxide' (kilogram, GLO, None) to 'methanol production, natural gas reforming' (kilogram, RER, None)>,\n",
       " Exchange: 0.006155628792545037 cubic meter 'market for natural gas, high pressure' (cubic meter, CH, None) to 'methanol production, natural gas reforming' (kilogram, RER, None)>,\n",
       " Exchange: 0.882844371207455 cubic meter 'market group for natural gas, high pressure' (cubic meter, Europe without Switzerland, None) to 'methanol production, natural gas reforming' (kilogram, RER, None)>,\n",
       " Exchange: 2e-05 kilogram 'market for nickel, class 1' (kilogram, GLO, None) to 'methanol production, natural gas reforming' (kilogram, RER, None)>,\n",
       " Exchange: -0.00028839227527446745 cubic meter 'market for wastewater, average' (cubic meter, Europe without Switzerland, None) to 'methanol production, natural gas reforming' (kilogram, RER, None)>,\n",
       " Exchange: -7.247724725532602e-06 cubic meter 'market for wastewater, average' (cubic meter, CH, None) to 'methanol production, natural gas reforming' (kilogram, RER, None)>,\n",
       " Exchange: 0.0012733288425724135 kilogram 'market for water, deionised' (kilogram, CH, None) to 'methanol production, natural gas reforming' (kilogram, RER, None)>,\n",
       " Exchange: 0.35372667115742756 kilogram 'market for water, deionised' (kilogram, Europe without Switzerland, None) to 'methanol production, natural gas reforming' (kilogram, RER, None)>,\n",
       " Exchange: 3e-05 kilogram 'market for zinc oxide' (kilogram, GLO, None) to 'methanol production, natural gas reforming' (kilogram, RER, None)>,\n",
       " Exchange: 0.3531 kilogram 'Carbon dioxide, fossil' (kilogram, None, ('air',)) to 'methanol production, natural gas reforming' (kilogram, RER, None)>,\n",
       " Exchange: 0.0163 kilogram 'Carbon monoxide, fossil' (kilogram, None, ('air',)) to 'methanol production, natural gas reforming' (kilogram, RER, None)>,\n",
       " Exchange: 1.9483 kilogram 'Nitrogen' (kilogram, None, ('air',)) to 'methanol production, natural gas reforming' (kilogram, RER, None)>,\n",
       " Exchange: 0.03354 kilogram 'Oxygen' (kilogram, None, ('air',)) to 'methanol production, natural gas reforming' (kilogram, RER, None)>,\n",
       " Exchange: 0.000799 cubic meter 'Water' (cubic meter, None, ('air',)) to 'methanol production, natural gas reforming' (kilogram, RER, None)>,\n",
       " Exchange: 0.199 cubic meter 'Water' (cubic meter, None, ('water',)) to 'methanol production, natural gas reforming' (kilogram, RER, None)>,\n",
       " Exchange: 1.704723273 kilogram 'Nitrogen' (kilogram, None, ('natural resource', 'in air')) to 'methanol production, natural gas reforming' (kilogram, RER, None)>,\n",
       " Exchange: 0.517890615 kilogram 'Oxygen' (kilogram, None, ('natural resource', 'in air')) to 'methanol production, natural gas reforming' (kilogram, RER, None)>,\n",
       " Exchange: 0.2 cubic meter 'Water, cooling, unspecified natural origin' (cubic meter, None, ('natural resource', 'in water')) to 'methanol production, natural gas reforming' (kilogram, RER, None)>]"
      ]
     },
     "execution_count": 55,
     "metadata": {},
     "output_type": "execute_result"
    }
   ],
   "source": [
    "[exc for exc in meoh.exchanges()]"
   ]
  },
  {
   "cell_type": "markdown",
   "id": "3deb2e97",
   "metadata": {},
   "source": [
    "... or by casting it to a list:\n"
   ]
  },
  {
   "cell_type": "code",
   "execution_count": 56,
   "id": "13b1125a",
   "metadata": {},
   "outputs": [
    {
     "data": {
      "text/plain": [
       "[Exchange: 1.0 kilogram 'methanol production, natural gas reforming' (kilogram, RER, None) to 'methanol production, natural gas reforming' (kilogram, RER, None)>,\n",
       " Exchange: 0.00024 kilogram 'market for aluminium oxide, non-metallurgical' (kilogram, IAI Area, EU27 & EFTA, None) to 'methanol production, natural gas reforming' (kilogram, RER, None)>,\n",
       " Exchange: 9e-05 kilogram 'market for copper oxide' (kilogram, GLO, None) to 'methanol production, natural gas reforming' (kilogram, RER, None)>,\n",
       " Exchange: 0.088642952 kilowatt hour 'market group for electricity, medium voltage' (kilowatt hour, RER, None) to 'methanol production, natural gas reforming' (kilogram, RER, None)>,\n",
       " Exchange: 0.01 megajoule 'market group for heat, district or industrial, natural gas' (megajoule, RER, None) to 'methanol production, natural gas reforming' (kilogram, RER, None)>,\n",
       " Exchange: 3.72e-11 unit 'market for methanol factory' (unit, GLO, None) to 'methanol production, natural gas reforming' (kilogram, RER, None)>,\n",
       " Exchange: 1e-05 kilogram 'market for molybdenum trioxide' (kilogram, GLO, None) to 'methanol production, natural gas reforming' (kilogram, RER, None)>,\n",
       " Exchange: 0.006155628792545037 cubic meter 'market for natural gas, high pressure' (cubic meter, CH, None) to 'methanol production, natural gas reforming' (kilogram, RER, None)>,\n",
       " Exchange: 0.882844371207455 cubic meter 'market group for natural gas, high pressure' (cubic meter, Europe without Switzerland, None) to 'methanol production, natural gas reforming' (kilogram, RER, None)>,\n",
       " Exchange: 2e-05 kilogram 'market for nickel, class 1' (kilogram, GLO, None) to 'methanol production, natural gas reforming' (kilogram, RER, None)>,\n",
       " Exchange: -0.00028839227527446745 cubic meter 'market for wastewater, average' (cubic meter, Europe without Switzerland, None) to 'methanol production, natural gas reforming' (kilogram, RER, None)>,\n",
       " Exchange: -7.247724725532602e-06 cubic meter 'market for wastewater, average' (cubic meter, CH, None) to 'methanol production, natural gas reforming' (kilogram, RER, None)>,\n",
       " Exchange: 0.0012733288425724135 kilogram 'market for water, deionised' (kilogram, CH, None) to 'methanol production, natural gas reforming' (kilogram, RER, None)>,\n",
       " Exchange: 0.35372667115742756 kilogram 'market for water, deionised' (kilogram, Europe without Switzerland, None) to 'methanol production, natural gas reforming' (kilogram, RER, None)>,\n",
       " Exchange: 3e-05 kilogram 'market for zinc oxide' (kilogram, GLO, None) to 'methanol production, natural gas reforming' (kilogram, RER, None)>,\n",
       " Exchange: 0.3531 kilogram 'Carbon dioxide, fossil' (kilogram, None, ('air',)) to 'methanol production, natural gas reforming' (kilogram, RER, None)>,\n",
       " Exchange: 0.0163 kilogram 'Carbon monoxide, fossil' (kilogram, None, ('air',)) to 'methanol production, natural gas reforming' (kilogram, RER, None)>,\n",
       " Exchange: 1.9483 kilogram 'Nitrogen' (kilogram, None, ('air',)) to 'methanol production, natural gas reforming' (kilogram, RER, None)>,\n",
       " Exchange: 0.03354 kilogram 'Oxygen' (kilogram, None, ('air',)) to 'methanol production, natural gas reforming' (kilogram, RER, None)>,\n",
       " Exchange: 0.000799 cubic meter 'Water' (cubic meter, None, ('air',)) to 'methanol production, natural gas reforming' (kilogram, RER, None)>,\n",
       " Exchange: 0.199 cubic meter 'Water' (cubic meter, None, ('water',)) to 'methanol production, natural gas reforming' (kilogram, RER, None)>,\n",
       " Exchange: 1.704723273 kilogram 'Nitrogen' (kilogram, None, ('natural resource', 'in air')) to 'methanol production, natural gas reforming' (kilogram, RER, None)>,\n",
       " Exchange: 0.517890615 kilogram 'Oxygen' (kilogram, None, ('natural resource', 'in air')) to 'methanol production, natural gas reforming' (kilogram, RER, None)>,\n",
       " Exchange: 0.2 cubic meter 'Water, cooling, unspecified natural origin' (cubic meter, None, ('natural resource', 'in water')) to 'methanol production, natural gas reforming' (kilogram, RER, None)>]"
      ]
     },
     "execution_count": 56,
     "metadata": {},
     "output_type": "execute_result"
    }
   ],
   "source": [
    "list(meoh.exchanges())"
   ]
  },
  {
   "cell_type": "markdown",
   "id": "24ac5c3f",
   "metadata": {},
   "source": [
    "> Side note: You have to do the typecast to list() because the object returned by the exchanges() method is a generator. Generators are a type of iterable, but they are not lists. You can iterate over them, but you can't index them or get their length. If you want to do that, you have to convert them to a list. This is because in a generator, objects are generated \"on-the-fly\", saving memory."
   ]
  },
  {
   "cell_type": "markdown",
   "id": "fd746d61-49af-4cea-b978-18f04ea74ad4",
   "metadata": {},
   "source": [
    "Exchanges, too, work like dictionaries. Consequently, you can call .as_dict() on them, or you can filter them as shown in the cells below.\n"
   ]
  },
  {
   "cell_type": "code",
   "execution_count": 59,
   "id": "943b6a54",
   "metadata": {
    "scrolled": true
   },
   "outputs": [
    {
     "data": {
      "text/plain": [
       "[Exchange: 0.00024 kilogram 'market for aluminium oxide, non-metallurgical' (kilogram, IAI Area, EU27 & EFTA, None) to 'methanol production, natural gas reforming' (kilogram, RER, None)>,\n",
       " Exchange: 9e-05 kilogram 'market for copper oxide' (kilogram, GLO, None) to 'methanol production, natural gas reforming' (kilogram, RER, None)>,\n",
       " Exchange: 0.088642952 kilowatt hour 'market group for electricity, medium voltage' (kilowatt hour, RER, None) to 'methanol production, natural gas reforming' (kilogram, RER, None)>,\n",
       " Exchange: 0.01 megajoule 'market group for heat, district or industrial, natural gas' (megajoule, RER, None) to 'methanol production, natural gas reforming' (kilogram, RER, None)>,\n",
       " Exchange: 3.72e-11 unit 'market for methanol factory' (unit, GLO, None) to 'methanol production, natural gas reforming' (kilogram, RER, None)>,\n",
       " Exchange: 1e-05 kilogram 'market for molybdenum trioxide' (kilogram, GLO, None) to 'methanol production, natural gas reforming' (kilogram, RER, None)>,\n",
       " Exchange: 0.006155628792545037 cubic meter 'market for natural gas, high pressure' (cubic meter, CH, None) to 'methanol production, natural gas reforming' (kilogram, RER, None)>,\n",
       " Exchange: 0.882844371207455 cubic meter 'market group for natural gas, high pressure' (cubic meter, Europe without Switzerland, None) to 'methanol production, natural gas reforming' (kilogram, RER, None)>,\n",
       " Exchange: 2e-05 kilogram 'market for nickel, class 1' (kilogram, GLO, None) to 'methanol production, natural gas reforming' (kilogram, RER, None)>,\n",
       " Exchange: -0.00028839227527446745 cubic meter 'market for wastewater, average' (cubic meter, Europe without Switzerland, None) to 'methanol production, natural gas reforming' (kilogram, RER, None)>,\n",
       " Exchange: -7.247724725532602e-06 cubic meter 'market for wastewater, average' (cubic meter, CH, None) to 'methanol production, natural gas reforming' (kilogram, RER, None)>,\n",
       " Exchange: 0.0012733288425724135 kilogram 'market for water, deionised' (kilogram, CH, None) to 'methanol production, natural gas reforming' (kilogram, RER, None)>,\n",
       " Exchange: 0.35372667115742756 kilogram 'market for water, deionised' (kilogram, Europe without Switzerland, None) to 'methanol production, natural gas reforming' (kilogram, RER, None)>,\n",
       " Exchange: 3e-05 kilogram 'market for zinc oxide' (kilogram, GLO, None) to 'methanol production, natural gas reforming' (kilogram, RER, None)>]"
      ]
     },
     "execution_count": 59,
     "metadata": {},
     "output_type": "execute_result"
    }
   ],
   "source": [
    "# only technosphere exchanges aka product flows:\n",
    "[exc for exc in meoh.exchanges() if exc[\"type\"] == \"technosphere\"]"
   ]
  },
  {
   "cell_type": "code",
   "execution_count": 60,
   "id": "ca4e3ac9",
   "metadata": {},
   "outputs": [
    {
     "data": {
      "text/plain": [
       "[Exchange: 0.3531 kilogram 'Carbon dioxide, fossil' (kilogram, None, ('air',)) to 'methanol production, natural gas reforming' (kilogram, RER, None)>,\n",
       " Exchange: 0.0163 kilogram 'Carbon monoxide, fossil' (kilogram, None, ('air',)) to 'methanol production, natural gas reforming' (kilogram, RER, None)>,\n",
       " Exchange: 1.9483 kilogram 'Nitrogen' (kilogram, None, ('air',)) to 'methanol production, natural gas reforming' (kilogram, RER, None)>,\n",
       " Exchange: 0.03354 kilogram 'Oxygen' (kilogram, None, ('air',)) to 'methanol production, natural gas reforming' (kilogram, RER, None)>,\n",
       " Exchange: 0.000799 cubic meter 'Water' (cubic meter, None, ('air',)) to 'methanol production, natural gas reforming' (kilogram, RER, None)>,\n",
       " Exchange: 0.199 cubic meter 'Water' (cubic meter, None, ('water',)) to 'methanol production, natural gas reforming' (kilogram, RER, None)>,\n",
       " Exchange: 1.704723273 kilogram 'Nitrogen' (kilogram, None, ('natural resource', 'in air')) to 'methanol production, natural gas reforming' (kilogram, RER, None)>,\n",
       " Exchange: 0.517890615 kilogram 'Oxygen' (kilogram, None, ('natural resource', 'in air')) to 'methanol production, natural gas reforming' (kilogram, RER, None)>,\n",
       " Exchange: 0.2 cubic meter 'Water, cooling, unspecified natural origin' (cubic meter, None, ('natural resource', 'in water')) to 'methanol production, natural gas reforming' (kilogram, RER, None)>]"
      ]
     },
     "execution_count": 60,
     "metadata": {},
     "output_type": "execute_result"
    }
   ],
   "source": [
    "# only biosphere exchanges aka elementary flows:\n",
    "[exc for exc in meoh.exchanges() if exc[\"type\"] == \"biosphere\"]"
   ]
  },
  {
   "cell_type": "markdown",
   "id": "b2bc49b0",
   "metadata": {},
   "source": [
    "The two filters above are pretty common, so they get shortcuts:\n"
   ]
  },
  {
   "cell_type": "code",
   "execution_count": 61,
   "id": "1e8fa163",
   "metadata": {},
   "outputs": [
    {
     "data": {
      "text/plain": [
       "[Exchange: 0.00024 kilogram 'market for aluminium oxide, non-metallurgical' (kilogram, IAI Area, EU27 & EFTA, None) to 'methanol production, natural gas reforming' (kilogram, RER, None)>,\n",
       " Exchange: 9e-05 kilogram 'market for copper oxide' (kilogram, GLO, None) to 'methanol production, natural gas reforming' (kilogram, RER, None)>,\n",
       " Exchange: 0.088642952 kilowatt hour 'market group for electricity, medium voltage' (kilowatt hour, RER, None) to 'methanol production, natural gas reforming' (kilogram, RER, None)>,\n",
       " Exchange: 0.01 megajoule 'market group for heat, district or industrial, natural gas' (megajoule, RER, None) to 'methanol production, natural gas reforming' (kilogram, RER, None)>,\n",
       " Exchange: 3.72e-11 unit 'market for methanol factory' (unit, GLO, None) to 'methanol production, natural gas reforming' (kilogram, RER, None)>,\n",
       " Exchange: 1e-05 kilogram 'market for molybdenum trioxide' (kilogram, GLO, None) to 'methanol production, natural gas reforming' (kilogram, RER, None)>,\n",
       " Exchange: 0.006155628792545037 cubic meter 'market for natural gas, high pressure' (cubic meter, CH, None) to 'methanol production, natural gas reforming' (kilogram, RER, None)>,\n",
       " Exchange: 0.882844371207455 cubic meter 'market group for natural gas, high pressure' (cubic meter, Europe without Switzerland, None) to 'methanol production, natural gas reforming' (kilogram, RER, None)>,\n",
       " Exchange: 2e-05 kilogram 'market for nickel, class 1' (kilogram, GLO, None) to 'methanol production, natural gas reforming' (kilogram, RER, None)>,\n",
       " Exchange: -0.00028839227527446745 cubic meter 'market for wastewater, average' (cubic meter, Europe without Switzerland, None) to 'methanol production, natural gas reforming' (kilogram, RER, None)>,\n",
       " Exchange: -7.247724725532602e-06 cubic meter 'market for wastewater, average' (cubic meter, CH, None) to 'methanol production, natural gas reforming' (kilogram, RER, None)>,\n",
       " Exchange: 0.0012733288425724135 kilogram 'market for water, deionised' (kilogram, CH, None) to 'methanol production, natural gas reforming' (kilogram, RER, None)>,\n",
       " Exchange: 0.35372667115742756 kilogram 'market for water, deionised' (kilogram, Europe without Switzerland, None) to 'methanol production, natural gas reforming' (kilogram, RER, None)>,\n",
       " Exchange: 3e-05 kilogram 'market for zinc oxide' (kilogram, GLO, None) to 'methanol production, natural gas reforming' (kilogram, RER, None)>]"
      ]
     },
     "execution_count": 61,
     "metadata": {},
     "output_type": "execute_result"
    }
   ],
   "source": [
    "list(meoh.technosphere())"
   ]
  },
  {
   "cell_type": "code",
   "execution_count": 62,
   "id": "7e747001",
   "metadata": {},
   "outputs": [
    {
     "data": {
      "text/plain": [
       "[Exchange: 0.3531 kilogram 'Carbon dioxide, fossil' (kilogram, None, ('air',)) to 'methanol production, natural gas reforming' (kilogram, RER, None)>,\n",
       " Exchange: 0.0163 kilogram 'Carbon monoxide, fossil' (kilogram, None, ('air',)) to 'methanol production, natural gas reforming' (kilogram, RER, None)>,\n",
       " Exchange: 1.9483 kilogram 'Nitrogen' (kilogram, None, ('air',)) to 'methanol production, natural gas reforming' (kilogram, RER, None)>,\n",
       " Exchange: 0.03354 kilogram 'Oxygen' (kilogram, None, ('air',)) to 'methanol production, natural gas reforming' (kilogram, RER, None)>,\n",
       " Exchange: 0.000799 cubic meter 'Water' (cubic meter, None, ('air',)) to 'methanol production, natural gas reforming' (kilogram, RER, None)>,\n",
       " Exchange: 0.199 cubic meter 'Water' (cubic meter, None, ('water',)) to 'methanol production, natural gas reforming' (kilogram, RER, None)>,\n",
       " Exchange: 1.704723273 kilogram 'Nitrogen' (kilogram, None, ('natural resource', 'in air')) to 'methanol production, natural gas reforming' (kilogram, RER, None)>,\n",
       " Exchange: 0.517890615 kilogram 'Oxygen' (kilogram, None, ('natural resource', 'in air')) to 'methanol production, natural gas reforming' (kilogram, RER, None)>,\n",
       " Exchange: 0.2 cubic meter 'Water, cooling, unspecified natural origin' (cubic meter, None, ('natural resource', 'in water')) to 'methanol production, natural gas reforming' (kilogram, RER, None)>]"
      ]
     },
     "execution_count": 62,
     "metadata": {},
     "output_type": "execute_result"
    }
   ],
   "source": [
    "list(meoh.biosphere())"
   ]
  },
  {
   "cell_type": "markdown",
   "id": "ee80fb3b",
   "metadata": {},
   "source": [
    "#### Mini task: Find all processes with the unit \"person kilometer\" in the location \"DE\" (Germany). Use list comprehension.\n"
   ]
  },
  {
   "cell_type": "code",
   "execution_count": 61,
   "id": "8246da56",
   "metadata": {},
   "outputs": [],
   "source": [
    "a = [\n",
    "    act for act in eidb if \"person kilometer\" in act[\"unit\"] and \"DE\" in act[\"location\"]\n",
    "][0]"
   ]
  },
  {
   "cell_type": "code",
   "execution_count": 63,
   "id": "1fd7fdfd",
   "metadata": {},
   "outputs": [
    {
     "data": {
      "text/plain": [
       "'transport, passenger train' (person kilometer, DE, None)"
      ]
     },
     "execution_count": 63,
     "metadata": {},
     "output_type": "execute_result"
    }
   ],
   "source": [
    "a"
   ]
  },
  {
   "cell_type": "markdown",
   "id": "2dd52b56",
   "metadata": {},
   "source": [
    "### Task: Compare the climate change impact of german electricity production technologies.\n",
    "\n",
    "Using the skills you have learned above, conduct your own first LCA study.\n",
    "\n",
    "- First, select 3 different electricity production technologies in Germany\n",
    "- Set up an LCA for each, with a functional unit of 1 kWh.\n",
    "- Compare the impacts using the EF v3.1 climate change method, no LT which is provided in the cell below."
   ]
  },
  {
   "cell_type": "code",
   "execution_count": 139,
   "id": "840c9953",
   "metadata": {},
   "outputs": [
    {
     "data": {
      "text/plain": [
       "('EF v3.1 no LT',\n",
       " 'climate change no LT',\n",
       " 'global warming potential (GWP100) no LT')"
      ]
     },
     "execution_count": 139,
     "metadata": {},
     "output_type": "execute_result"
    }
   ],
   "source": [
    "# method\n",
    "m = [\n",
    "    met\n",
    "    for met in bd.methods\n",
    "    if \"climate change no LT\" in str(met) and \"EF v3.1 no LT\" in str(met)\n",
    "][0]\n",
    "m"
   ]
  },
  {
   "cell_type": "code",
   "execution_count": 66,
   "id": "7031b74c",
   "metadata": {
    "collapsed": true,
    "jupyter": {
     "outputs_hidden": true
    }
   },
   "outputs": [
    {
     "data": {
      "text/plain": [
       "['electricity production, natural gas, 10MW' (kilowatt hour, DE, None),\n",
       " 'electricity production, hard coal' (kilowatt hour, DE, None),\n",
       " 'electricity production, natural gas, conventional power plant' (kilowatt hour, DE, None),\n",
       " 'electricity production, wind, 1-3MW turbine, onshore' (kilowatt hour, DE, None),\n",
       " 'electricity production, natural gas, combined cycle power plant' (kilowatt hour, DE, None),\n",
       " 'electricity production, hydro, reservoir, non-alpine region' (kilowatt hour, DE, None),\n",
       " 'electricity production, wind, 1-3MW turbine, offshore' (kilowatt hour, DE, None),\n",
       " 'electricity production, deep geothermal' (kilowatt hour, DE, None),\n",
       " 'electricity production, lignite' (kilowatt hour, DE, None),\n",
       " 'electricity production, wind, 6kW small-scale turbine, onshore' (kilowatt hour, DE, None),\n",
       " 'electricity production, nuclear, boiling water reactor' (kilowatt hour, DE, None),\n",
       " 'electricity production, oil' (kilowatt hour, DE, None),\n",
       " 'electricity production, photovoltaic, 3kWp slanted-roof installation, multi-Si, panel, mounted' (kilowatt hour, DE, None),\n",
       " 'electricity production, hydro, pumped storage' (kilowatt hour, DE, None),\n",
       " 'electricity production, photovoltaic, 3kWp slanted-roof installation, single-Si, panel, mounted' (kilowatt hour, DE, None),\n",
       " 'electricity production, photovoltaic, 570kWp open ground installation, multi-Si' (kilowatt hour, DE, None),\n",
       " 'electricity production, wind, >3MW turbine, onshore' (kilowatt hour, DE, None),\n",
       " 'electricity production, nuclear, pressure water reactor' (kilowatt hour, DE, None),\n",
       " 'electricity production, hydro, run-of-river' (kilowatt hour, DE, None),\n",
       " 'electricity production, wind, <1MW turbine, onshore' (kilowatt hour, DE, None)]"
      ]
     },
     "execution_count": 66,
     "metadata": {},
     "output_type": "execute_result"
    }
   ],
   "source": [
    "[\n",
    "    act\n",
    "    for act in eidb\n",
    "    if \"DE\" in act[\"location\"] and \"electricity production\" in act[\"name\"]\n",
    "]"
   ]
  },
  {
   "cell_type": "code",
   "execution_count": 67,
   "id": "75c12c80",
   "metadata": {},
   "outputs": [],
   "source": [
    "elec1 = [\n",
    "    act\n",
    "    for act in eidb\n",
    "    if \"DE\" in act[\"location\"]\n",
    "    and \"electricity production\" in act[\"name\"]\n",
    "    and \"wind\" in act[\"name\"]\n",
    "    and \"offshore\" in act[\"name\"]\n",
    "][0]\n",
    "elec2 = [\n",
    "    act\n",
    "    for act in eidb\n",
    "    if \"DE\" in act[\"location\"]\n",
    "    and \"electricity production\" in act[\"name\"]\n",
    "    and \"coal\" in act[\"name\"]\n",
    "][0]\n",
    "elec3 = [\n",
    "    act\n",
    "    for act in eidb\n",
    "    if \"DE\" in act[\"location\"]\n",
    "    and \"electricity production\" in act[\"name\"]\n",
    "    and \"photovoltaic\" in act[\"name\"]\n",
    "][0]"
   ]
  },
  {
   "cell_type": "code",
   "execution_count": 68,
   "id": "a31b3239",
   "metadata": {},
   "outputs": [
    {
     "data": {
      "text/plain": [
       "0.016845208676277812"
      ]
     },
     "execution_count": 68,
     "metadata": {},
     "output_type": "execute_result"
    }
   ],
   "source": [
    "# wind offshore\n",
    "fu_elec1 = {elec1: 1}\n",
    "lca_elec1 = bc.LCA(fu_elec1, m)\n",
    "\n",
    "lca_elec1.lci()\n",
    "lca_elec1.lcia()\n",
    "lca_elec1.score"
   ]
  },
  {
   "cell_type": "code",
   "execution_count": 69,
   "id": "30f8707a",
   "metadata": {},
   "outputs": [
    {
     "data": {
      "text/plain": [
       "1.0553874198615636"
      ]
     },
     "execution_count": 69,
     "metadata": {},
     "output_type": "execute_result"
    }
   ],
   "source": [
    "# coal\n",
    "fu_elec2 = {elec2: 1}\n",
    "lca_elec2 = bc.LCA(fu_elec2, m)\n",
    "\n",
    "lca_elec2.lci()\n",
    "lca_elec2.lcia()\n",
    "lca_elec2.score"
   ]
  },
  {
   "cell_type": "code",
   "execution_count": 70,
   "id": "bf5938a7",
   "metadata": {},
   "outputs": [
    {
     "data": {
      "text/plain": [
       "0.11641437023777328"
      ]
     },
     "execution_count": 70,
     "metadata": {},
     "output_type": "execute_result"
    }
   ],
   "source": [
    "# photovoltaic\n",
    "fu_elec3 = {elec3: 1}\n",
    "lca_elec3 = bc.LCA(fu_elec3, m)\n",
    "\n",
    "lca_elec3.lci()\n",
    "lca_elec3.lcia()\n",
    "lca_elec3.score"
   ]
  },
  {
   "cell_type": "markdown",
   "id": "ec7ed227",
   "metadata": {},
   "source": [
    "### Task: Create an activity for a battery electric vehicle and compare it to a diesel-powered car.\n",
    "\n",
    "#### Tutorial:  Create your own database\n",
    "\n",
    "Since activities live in databases, you need to create a database before creating your activity. We will create a database named \"own\" in the cell below. You may add processes to this database throughout the course."
   ]
  },
  {
   "cell_type": "code",
   "execution_count": 146,
   "id": "adcdaeb9",
   "metadata": {},
   "outputs": [],
   "source": [
    "own = bd.Database(\"own\")  # your databases needs a name\n",
    "data = {}  # we start with no data, so data is empty\n",
    "own.write(data)"
   ]
  },
  {
   "cell_type": "code",
   "execution_count": 147,
   "id": "65551790",
   "metadata": {},
   "outputs": [
    {
     "data": {
      "text/plain": [
       "Databases dictionary with 9 object(s):\n",
       "\tdb_2020_dummy\n",
       "\tdb_2030_dummy\n",
       "\tdb_2040_dummy\n",
       "\tecoinvent-3.10-biosphere\n",
       "\tecoinvent-3.10-cutoff\n",
       "\tei310_IMAGE_SSP2_RCP26_2035\n",
       "\tei310_IMAGE_SSP2_RCP26_2050\n",
       "\tforeground\n",
       "\town"
      ]
     },
     "execution_count": 147,
     "metadata": {},
     "output_type": "execute_result"
    }
   ],
   "source": [
    "bd.databases  # your database was created if it appears here"
   ]
  },
  {
   "cell_type": "code",
   "execution_count": 148,
   "id": "9593075e",
   "metadata": {},
   "outputs": [
    {
     "data": {
      "text/plain": [
       "[]"
      ]
     },
     "execution_count": 148,
     "metadata": {},
     "output_type": "execute_result"
    }
   ],
   "source": [
    "[act for act in own]  # database is still empty"
   ]
  },
  {
   "cell_type": "code",
   "execution_count": 149,
   "id": "0530aba4-5032-4b52-b51c-2ee56817fc77",
   "metadata": {},
   "outputs": [],
   "source": [
    "# if you ever need to delete a database, you may use the command below. Please be careful deleting databases, since you cannot undo the deletion\n",
    "# del bd.databases['own']"
   ]
  },
  {
   "cell_type": "markdown",
   "id": "9ae6a99c",
   "metadata": {},
   "source": [
    "#### Tutorial: Create a new activity\n",
    "\n",
    "In order to show you how to create a new activity, we will model hydrogen production from steam methane reforming (SMR) from a literature source.\n",
    "| Flow| Amount |\n",
    "| ----------- | ----------- |\n",
    "| Hydrogen output | 1 kg |\n",
    "| Electricity input | 1.11 kWh |\n",
    "| Natural gas input | 3.93 m3 |\n",
    "| Water input | 21.87 kg |\n",
    "| CO2 emission | 9.26 kg\n",
    "\n",
    "First, we select all inputs from the ecoinvent database, and the emissions from the biosphere database. For the activity creation, we will need to link our selected inputs and emissions to the new activities using their \"key\". A \"key\" is a tuple formed of the database name and the unique identifying code of each activity in each database."
   ]
  },
  {
   "cell_type": "markdown",
   "id": "e1712b7a",
   "metadata": {},
   "source": [
    "We have to choose a process for 'Carbon dioxide, fossil' with 'air' as category.\n"
   ]
  },
  {
   "cell_type": "code",
   "execution_count": 150,
   "id": "8dd698e7",
   "metadata": {},
   "outputs": [
    {
     "name": "stdout",
     "output_type": "stream",
     "text": [
      "Carbon dioxide, fossil, 349b29d1-3e58-4c66-98b9-9d1a076efd2e\n",
      "('air',)\n",
      "Carbon dioxide, fossil, e259263c-d1f1-449f-bb9b-73c6d0a32a00\n",
      "('air', 'low population density, long-term')\n",
      "Carbon dioxide, fossil, f9749677-9c9f-4678-ab55-c607dfdc2cb9\n",
      "('air', 'urban air close to ground')\n",
      "Carbon dioxide, fossil, 16eeda8a-1ea2-408e-ab37-2648495058dd\n",
      "('air', 'lower stratosphere + upper troposphere')\n",
      "Carbon dioxide, fossil, aa7cac3a-3625-41d4-bc54-33e2cf11ec46\n",
      "('air', 'non-urban air or from high stacks')\n"
     ]
    }
   ],
   "source": [
    "for bio in bsdb:\n",
    "    if \"Carbon dioxide, fossil\" in bio[\"name\"] and \"air\" in bio[\"categories\"]:\n",
    "        print(bio[\"name\"] + \", \" + bio[\"code\"])\n",
    "        print(bio[\"categories\"])"
   ]
  },
  {
   "cell_type": "code",
   "execution_count": 151,
   "id": "faacb198",
   "metadata": {},
   "outputs": [],
   "source": [
    "# define all required inputs\n",
    "input_elec = [\n",
    "    act\n",
    "    for act in eidb\n",
    "    if \"market for electricity, high voltage\" in act[\"name\"] and \"DE\" in act[\"location\"]\n",
    "][0]\n",
    "input_ng = [\n",
    "    act\n",
    "    for act in eidb\n",
    "    if \"market for natural gas, high pressure\" in act[\"name\"]\n",
    "    and \"DE\" in act[\"location\"]\n",
    "][0]\n",
    "input_water = [\n",
    "    act\n",
    "    for act in eidb\n",
    "    if \"market for water, deionised\" in act[\"name\"]\n",
    "    and \"Europe without Switzerland\" in act[\"location\"]\n",
    "][0]\n",
    "emission_co2 = [\n",
    "    bio for bio in bsdb if \"349b29d1-3e58-4c66-98b9-9d1a076efd2e\" in bio[\"code\"]\n",
    "][\n",
    "    0\n",
    "]  # identified in cell above"
   ]
  },
  {
   "cell_type": "code",
   "execution_count": 152,
   "id": "2619a39d",
   "metadata": {},
   "outputs": [],
   "source": [
    "# first, create the activity. each activity needs a unique(!!) code. here, we choose the process name.\n",
    "process_hyd = own.new_activity(\n",
    "    code=\"hydrogen production, from SMR\",\n",
    "    name=\"hydrogen production, from SMR\",\n",
    "    unit=\"kilogram\",\n",
    "    comment=\"Mehmeti et al., 2018\",\n",
    ")  # source of the activity data\n",
    "\n",
    "# production\n",
    "# each process NEEDS EXACTLY ONE exchange with the type \"production\". this is the main product of our activity. the amount is usually 1.\n",
    "# as the input, give the key of the process you are currently creating (self-reference)\n",
    "process_hyd.new_exchange(\n",
    "    type=\"production\", name=\"hydrogen\", unit=\"kg\", amount=1, input=process_hyd\n",
    ").save()\n",
    "\n",
    "\n",
    "# technosphere\n",
    "\n",
    "# add the product flows as technosphere exchanges one by one.\n",
    "### product flows need the type \"technosphere\".\n",
    "### name and unit must be the same as the connected process\n",
    "### specify the amount according to the source data\n",
    "\n",
    "# finally, save each new exchange using \".save()\"\n",
    "\n",
    "process_hyd.new_exchange(\n",
    "    type=\"technosphere\",\n",
    "    name=\"market for electricity, high voltage\",\n",
    "    unit=input_elec[\"unit\"],\n",
    "    amount=1.11,\n",
    "    input=input_elec,\n",
    ").save()\n",
    "\n",
    "process_hyd.new_exchange(\n",
    "    type=\"technosphere\",\n",
    "    name=\"market for natural gas, high pressure\",\n",
    "    unit=input_ng[\"unit\"],\n",
    "    amount=3.928571429,\n",
    "    input=input_ng,\n",
    ").save()\n",
    "\n",
    "process_hyd.new_exchange(\n",
    "    type=\"technosphere\",\n",
    "    name=\"market for water, deionised\",\n",
    "    unit=input_water[\"unit\"],\n",
    "    amount=21.869,\n",
    "    input=input_water,\n",
    ").save()\n",
    "\n",
    "# biosphere\n",
    "# add biosphere exchanges (elementary flows) similarly to technosphere flows, but make sure to specify the type as \"biosphere\"\n",
    "\n",
    "process_hyd.new_exchange(\n",
    "    type=\"biosphere\",\n",
    "    name=\"Carbon dioxide to air\",\n",
    "    unit=emission_co2[\"unit\"],\n",
    "    amount=9.256495897,\n",
    "    input=emission_co2,\n",
    ").save()\n",
    "\n",
    "\n",
    "process_hyd[\"reference product\"] = (\n",
    "    \"hydrogen\"  # adding this here because the space gives trouble if specified in new_Activity bracket\n",
    ")\n",
    "process_hyd.save()"
   ]
  },
  {
   "cell_type": "code",
   "execution_count": 154,
   "id": "df150c2e",
   "metadata": {
    "scrolled": true
   },
   "outputs": [
    {
     "data": {
      "text/plain": [
       "{'database': 'own',\n",
       " 'code': 'hydrogen production, from SMR',\n",
       " 'location': 'GLO',\n",
       " 'name': 'hydrogen production, from SMR',\n",
       " 'unit': 'kilogram',\n",
       " 'comment': 'Mehmeti et al., 2018',\n",
       " 'reference product': 'hydrogen'}"
      ]
     },
     "execution_count": 154,
     "metadata": {},
     "output_type": "execute_result"
    }
   ],
   "source": [
    "# investigate the newly created activity\n",
    "process_hyd.as_dict()"
   ]
  },
  {
   "cell_type": "code",
   "execution_count": 155,
   "id": "e6d0820c",
   "metadata": {
    "scrolled": true
   },
   "outputs": [
    {
     "data": {
      "text/plain": [
       "[Exchange: 1 kilogram 'hydrogen production, from SMR' (kilogram, GLO, None) to 'hydrogen production, from SMR' (kilogram, GLO, None)>,\n",
       " Exchange: 1.11 kilowatt hour 'market for electricity, high voltage' (kilowatt hour, DE, None) to 'hydrogen production, from SMR' (kilogram, GLO, None)>,\n",
       " Exchange: 3.928571429 cubic meter 'market for natural gas, high pressure' (cubic meter, DE, None) to 'hydrogen production, from SMR' (kilogram, GLO, None)>,\n",
       " Exchange: 21.869 kilogram 'market for water, deionised' (kilogram, Europe without Switzerland, None) to 'hydrogen production, from SMR' (kilogram, GLO, None)>,\n",
       " Exchange: 9.256495897 kilogram 'Carbon dioxide, fossil' (kilogram, None, ('air',)) to 'hydrogen production, from SMR' (kilogram, GLO, None)>]"
      ]
     },
     "execution_count": 155,
     "metadata": {},
     "output_type": "execute_result"
    }
   ],
   "source": [
    "# look at the newly created exchanges\n",
    "list(process_hyd.exchanges())"
   ]
  },
  {
   "cell_type": "markdown",
   "id": "e5ede49d",
   "metadata": {},
   "source": [
    "### Task: Create an activity for an electric car with a battery\n",
    "\n",
    "The ecoinvent database provides you with the processes 'passenger car production, electric, without battery' and 'battery production, Li-ion, LiMn2O4, rechargeable, prismatic'. Assuming that 1 car requires 1000 kg car production and 160 kg battery, create an activity for the electric car including the battery.\n"
   ]
  },
  {
   "cell_type": "code",
   "execution_count": 123,
   "id": "e49975fd",
   "metadata": {},
   "outputs": [],
   "source": [
    "car = eidb.get(name=\"passenger car production, electric, without battery\")\n",
    "# this is the same as:\n",
    "# bd.get_node(database=\"ecoinvent-3.10-cutoff\", name=\"passenger car production, electric, without battery\")\n",
    "# or\n",
    "# [act for act in eidb if \"passenger car production, electric, without battery\" in act[\"name\"]][0]\n",
    "\n",
    "bat = eidb.get(name=\"battery production, Li-ion, LiMn2O4, rechargeable, prismatic\")"
   ]
  },
  {
   "cell_type": "code",
   "execution_count": 126,
   "id": "dec128cc",
   "metadata": {},
   "outputs": [
    {
     "name": "stderr",
     "output_type": "stream",
     "text": [
      "/Users/timodiepers/anaconda3/envs/lcaepe/lib/python3.11/site-packages/bw2data/backends/typos.py:91: UserWarning: Possible incorrect activity key found: Given `reference_product` but `reference product` is more common\n",
      "  warnings.warn(\n"
     ]
    }
   ],
   "source": [
    "# create the process\n",
    "process_car = own.new_activity(\n",
    "    code=\"passenger car production, electric, with battery\",\n",
    "    name=\"passenger car production, electric, with battery\",\n",
    "    reference_product=\"passenger car, electric\",\n",
    "    unit=\"unit\",\n",
    ")\n",
    "\n",
    "# technosphere\n",
    "process_car.new_exchange(\n",
    "    type=\"technosphere\",\n",
    "    name=\"passenger car production, electric, without battery\",\n",
    "    unit=car[\"unit\"],\n",
    "    amount=1000,\n",
    "    input=car,\n",
    ").save()\n",
    "\n",
    "process_car.new_exchange(\n",
    "    type=\"technosphere\",\n",
    "    name=\"battery production, NMC811\",\n",
    "    unit=bat[\"unit\"],\n",
    "    amount=160,\n",
    "    input=bat,\n",
    ").save()\n",
    "\n",
    "# production\n",
    "process_car.new_exchange(\n",
    "    type=\"production\",\n",
    "    name=\"passenger car, electric, with battery\",\n",
    "    unit=\"unit\",\n",
    "    amount=1,\n",
    "    input=process_car,\n",
    ").save()\n",
    "\n",
    "process_car.save()"
   ]
  },
  {
   "cell_type": "code",
   "execution_count": 127,
   "id": "beea4b55",
   "metadata": {},
   "outputs": [
    {
     "data": {
      "text/plain": [
       "{'database': 'own',\n",
       " 'code': 'passenger car production, electric, with battery',\n",
       " 'location': 'GLO',\n",
       " 'name': 'passenger car production, electric, with battery',\n",
       " 'reference_product': 'passenger car, electric',\n",
       " 'unit': 'unit',\n",
       " 'id': 82590}"
      ]
     },
     "execution_count": 127,
     "metadata": {},
     "output_type": "execute_result"
    }
   ],
   "source": [
    "car_elec = [act for act in own if \"car\" in act[\"name\"]][0]\n",
    "car_elec.as_dict()"
   ]
  },
  {
   "cell_type": "code",
   "execution_count": 130,
   "id": "678ed73d",
   "metadata": {},
   "outputs": [
    {
     "data": {
      "text/plain": [
       "[Exchange: 1000 kilogram 'passenger car production, electric, without battery' (kilogram, GLO, None) to 'passenger car production, electric, with battery' (unit, GLO, None)>,\n",
       " Exchange: 160 kilogram 'battery production, Li-ion, LiMn2O4, rechargeable, prismatic' (kilogram, GLO, None) to 'passenger car production, electric, with battery' (unit, GLO, None)>,\n",
       " Exchange: 1 unit 'passenger car production, electric, with battery' (unit, GLO, None) to 'passenger car production, electric, with battery' (unit, GLO, None)>]"
      ]
     },
     "execution_count": 130,
     "metadata": {},
     "output_type": "execute_result"
    }
   ],
   "source": [
    "list(car_elec.exchanges())"
   ]
  },
  {
   "cell_type": "markdown",
   "id": "a5aea88f",
   "metadata": {},
   "source": [
    "### Task: Create an activity for transport using the new electric car.\n",
    "\n",
    "LCA studies of transport options usually compare on a \"distance traveled\" basis, since it would be unfair to compare \"1 diesel car\" to \"1 electric car\" if, e.g., the electric car has a much lower lifetime mileage. Create a process for 1 km of transport, driven with your newly created electric car.\n",
    "\n",
    "Make the following assumptions:\n",
    "\n",
    "- the lifetime mileage of the car is 200,000 kilometers\n",
    "- per kilometer traveled, 1.65E-05 kg of road wear emissions occur (hint: this is not a biosphere flow, but an ecoinvent process)\n",
    "- the German electricity mix at high voltage is used for charging the car\n",
    "- per kilometer, 0.2124 kWh of charging electricity are required\n"
   ]
  },
  {
   "cell_type": "code",
   "execution_count": 134,
   "id": "04be8508",
   "metadata": {},
   "outputs": [],
   "source": [
    "road = [\n",
    "    act\n",
    "    for act in eidb\n",
    "    if \"road wear emissions\" in act[\"name\"]\n",
    "    and \"GLO\" in act[\"location\"]\n",
    "][0]\n",
    "elec_DE = [\n",
    "    act\n",
    "    for act in eidb\n",
    "    if \"market for electricity, high voltage\" in act[\"name\"] and \"DE\" in act[\"location\"]\n",
    "][0]"
   ]
  },
  {
   "cell_type": "code",
   "execution_count": 135,
   "id": "a5babe3d",
   "metadata": {},
   "outputs": [
    {
     "name": "stderr",
     "output_type": "stream",
     "text": [
      "/Users/timodiepers/anaconda3/envs/lcaepe/lib/python3.11/site-packages/bw2data/backends/typos.py:91: UserWarning: Possible incorrect activity key found: Given `reference_product` but `reference product` is more common\n",
      "  warnings.warn(\n"
     ]
    }
   ],
   "source": [
    "# create the process\n",
    "transport_car_elec = own.new_activity(\n",
    "    code=\"transport passenger car, electric\",\n",
    "    name=\"transport passenger car, electric\",\n",
    "    reference_product=\"transport passenger car, electric\",\n",
    "    unit=\"kilometer\",\n",
    ")\n",
    "\n",
    "# production\n",
    "transport_car_elec.new_exchange(\n",
    "    type=\"production\",\n",
    "    name=\"transport passenger car, electric\",\n",
    "    unit=\"kilometer\",\n",
    "    amount=1,\n",
    "    input=transport_car_elec,\n",
    ").save()\n",
    "\n",
    "# technosphere\n",
    "transport_car_elec.new_exchange(\n",
    "    type=\"technosphere\",\n",
    "    name=\"market for road wear emissions, passenger car\",\n",
    "    unit=road[\"unit\"],\n",
    "    amount=1.65e-5,\n",
    "    input=road,\n",
    ").save()\n",
    "\n",
    "transport_car_elec.new_exchange(\n",
    "    type=\"technosphere\",\n",
    "    name=\"market for electricity, high voltage\",\n",
    "    unit=elec_DE[\"unit\"],\n",
    "    amount=0.212407268,\n",
    "    input=elec_DE,\n",
    ").save()\n",
    "\n",
    "transport_car_elec.new_exchange(\n",
    "    type=\"technosphere\",\n",
    "    name=\"passenger car, electric, with battery\",\n",
    "    unit=car_elec[\"unit\"],\n",
    "    amount=0.000005,\n",
    "    input=car_elec,\n",
    ").save()\n",
    "\n",
    "\n",
    "transport_car_elec.save()"
   ]
  },
  {
   "cell_type": "markdown",
   "id": "c5854e45",
   "metadata": {},
   "source": [
    "### Task: Compare the global warming impact of a ride with your newly created car and a ride with a conventional car\n",
    "\n",
    "You may choose any car run on petrol or diesel as the \"conventional car\". Make sure you compare based on kilometers traveled!\n"
   ]
  },
  {
   "cell_type": "code",
   "execution_count": 140,
   "id": "189638fa",
   "metadata": {},
   "outputs": [
    {
     "data": {
      "text/plain": [
       "0.13775496500829024"
      ]
     },
     "execution_count": 140,
     "metadata": {},
     "output_type": "execute_result"
    }
   ],
   "source": [
    "fu_transport_car_elec = {transport_car_elec: 1}\n",
    "lca_transport_car_elec = bc.LCA(fu_transport_car_elec, m)\n",
    "lca_transport_car_elec.lci()\n",
    "lca_transport_car_elec.lcia()\n",
    "lca_transport_car_elec.score"
   ]
  },
  {
   "cell_type": "code",
   "execution_count": 141,
   "id": "9321e393",
   "metadata": {},
   "outputs": [],
   "source": [
    "conv_car = [\n",
    "    act\n",
    "    for act in eidb\n",
    "    if \"transport, passenger car, medium size, petrol, EURO 3\" in act[\"name\"]\n",
    "    and \"RER\" in act[\"location\"]\n",
    "][0]"
   ]
  },
  {
   "cell_type": "code",
   "execution_count": 142,
   "id": "0b667fb9",
   "metadata": {},
   "outputs": [
    {
     "data": {
      "text/plain": [
       "0.40587124190565504"
      ]
     },
     "execution_count": 142,
     "metadata": {},
     "output_type": "execute_result"
    }
   ],
   "source": [
    "fu_conv = {conv_car: 1}\n",
    "lca_conv_car = bc.LCA(fu_conv, m)\n",
    "lca_conv_car.lci()\n",
    "lca_conv_car.lcia()\n",
    "lca_conv_car.score"
   ]
  },
  {
   "cell_type": "markdown",
   "id": "3e66bc0b-4718-40c7-bbf6-6f2a4e5492fa",
   "metadata": {},
   "source": [
    "Congrats on finishing your first LCA exercise :) Have a nice evening!\n"
   ]
  }
 ],
 "metadata": {
  "kernelspec": {
   "display_name": "Python 3 (ipykernel)",
   "language": "python",
   "name": "python3"
  },
  "language_info": {
   "codemirror_mode": {
    "name": "ipython",
    "version": 3
   },
   "file_extension": ".py",
   "mimetype": "text/x-python",
   "name": "python",
   "nbconvert_exporter": "python",
   "pygments_lexer": "ipython3",
   "version": "3.11.9"
  },
  "toc": {
   "base_numbering": 1,
   "nav_menu": {},
   "number_sections": true,
   "sideBar": true,
   "skip_h1_title": false,
   "title_cell": "Table of Contents",
   "title_sidebar": "Contents",
   "toc_cell": false,
   "toc_position": {},
   "toc_section_display": true,
   "toc_window_display": false
  },
  "varInspector": {
   "cols": {
    "lenName": 16,
    "lenType": 16,
    "lenVar": 40
   },
   "kernels_config": {
    "python": {
     "delete_cmd_postfix": "",
     "delete_cmd_prefix": "del ",
     "library": "var_list.py",
     "varRefreshCmd": "print(var_dic_list())"
    },
    "r": {
     "delete_cmd_postfix": ") ",
     "delete_cmd_prefix": "rm(",
     "library": "var_list.r",
     "varRefreshCmd": "cat(var_dic_list()) "
    }
   },
   "types_to_exclude": [
    "module",
    "function",
    "builtin_function_or_method",
    "instance",
    "_Feature"
   ],
   "window_display": false
  }
 },
 "nbformat": 4,
 "nbformat_minor": 5
}
